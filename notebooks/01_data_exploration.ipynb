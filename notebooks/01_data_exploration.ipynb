{
 "cells": [
  {
   "cell_type": "markdown",
   "id": "8db26780",
   "metadata": {},
   "source": [
    "## Step 1 | Setup and Initialization"
   ]
  },
  {
   "cell_type": "markdown",
   "id": "f2721ea3",
   "metadata": {},
   "source": [
    "I'll initialize the libraries that will be utilized throughout the project. This generally includes libraries for data manipulation, data visualization, and others based on the specific needs of the project."
   ]
  },
  {
   "cell_type": "code",
   "execution_count": 11,
   "id": "5ba78692",
   "metadata": {},
   "outputs": [
    {
     "name": "stdout",
     "output_type": "stream",
     "text": [
      "Requirement already satisfied: pandas in d:\\documents\\projects\\surveyanalysis\\checkout\\.venv\\lib\\site-packages (from -r requirements.txt (line 1)) (2.3.2)\n",
      "Requirement already satisfied: numpy in d:\\documents\\projects\\surveyanalysis\\checkout\\.venv\\lib\\site-packages (from -r requirements.txt (line 2)) (2.3.3)\n",
      "Requirement already satisfied: scipy in d:\\documents\\projects\\surveyanalysis\\checkout\\.venv\\lib\\site-packages (from -r requirements.txt (line 3)) (1.16.2)\n",
      "Requirement already satisfied: matplotlib in d:\\documents\\projects\\surveyanalysis\\checkout\\.venv\\lib\\site-packages (from -r requirements.txt (line 4)) (3.10.6)\n",
      "Requirement already satisfied: seaborn in d:\\documents\\projects\\surveyanalysis\\checkout\\.venv\\lib\\site-packages (from -r requirements.txt (line 5)) (0.13.2)\n",
      "Requirement already satisfied: jupyter in d:\\documents\\projects\\surveyanalysis\\checkout\\.venv\\lib\\site-packages (from -r requirements.txt (line 6)) (1.1.1)\n",
      "Requirement already satisfied: scikit-learn in d:\\documents\\projects\\surveyanalysis\\checkout\\.venv\\lib\\site-packages (from -r requirements.txt (line 7)) (1.7.2)\n",
      "Requirement already satisfied: python-dateutil>=2.8.2 in d:\\documents\\projects\\surveyanalysis\\checkout\\.venv\\lib\\site-packages (from pandas->-r requirements.txt (line 1)) (2.9.0.post0)\n",
      "Requirement already satisfied: pytz>=2020.1 in d:\\documents\\projects\\surveyanalysis\\checkout\\.venv\\lib\\site-packages (from pandas->-r requirements.txt (line 1)) (2025.2)\n",
      "Requirement already satisfied: tzdata>=2022.7 in d:\\documents\\projects\\surveyanalysis\\checkout\\.venv\\lib\\site-packages (from pandas->-r requirements.txt (line 1)) (2025.2)\n",
      "Requirement already satisfied: contourpy>=1.0.1 in d:\\documents\\projects\\surveyanalysis\\checkout\\.venv\\lib\\site-packages (from matplotlib->-r requirements.txt (line 4)) (1.3.3)\n",
      "Requirement already satisfied: cycler>=0.10 in d:\\documents\\projects\\surveyanalysis\\checkout\\.venv\\lib\\site-packages (from matplotlib->-r requirements.txt (line 4)) (0.12.1)\n",
      "Requirement already satisfied: fonttools>=4.22.0 in d:\\documents\\projects\\surveyanalysis\\checkout\\.venv\\lib\\site-packages (from matplotlib->-r requirements.txt (line 4)) (4.60.0)\n",
      "Requirement already satisfied: kiwisolver>=1.3.1 in d:\\documents\\projects\\surveyanalysis\\checkout\\.venv\\lib\\site-packages (from matplotlib->-r requirements.txt (line 4)) (1.4.9)\n",
      "Requirement already satisfied: packaging>=20.0 in d:\\documents\\projects\\surveyanalysis\\checkout\\.venv\\lib\\site-packages (from matplotlib->-r requirements.txt (line 4)) (25.0)\n",
      "Requirement already satisfied: pillow>=8 in d:\\documents\\projects\\surveyanalysis\\checkout\\.venv\\lib\\site-packages (from matplotlib->-r requirements.txt (line 4)) (11.3.0)\n",
      "Requirement already satisfied: pyparsing>=2.3.1 in d:\\documents\\projects\\surveyanalysis\\checkout\\.venv\\lib\\site-packages (from matplotlib->-r requirements.txt (line 4)) (3.2.4)\n",
      "Requirement already satisfied: notebook in d:\\documents\\projects\\surveyanalysis\\checkout\\.venv\\lib\\site-packages (from jupyter->-r requirements.txt (line 6)) (7.4.5)\n",
      "Requirement already satisfied: jupyter-console in d:\\documents\\projects\\surveyanalysis\\checkout\\.venv\\lib\\site-packages (from jupyter->-r requirements.txt (line 6)) (6.6.3)\n",
      "Requirement already satisfied: nbconvert in d:\\documents\\projects\\surveyanalysis\\checkout\\.venv\\lib\\site-packages (from jupyter->-r requirements.txt (line 6)) (7.16.6)\n",
      "Requirement already satisfied: ipykernel in d:\\documents\\projects\\surveyanalysis\\checkout\\.venv\\lib\\site-packages (from jupyter->-r requirements.txt (line 6)) (6.30.1)\n",
      "Requirement already satisfied: ipywidgets in d:\\documents\\projects\\surveyanalysis\\checkout\\.venv\\lib\\site-packages (from jupyter->-r requirements.txt (line 6)) (8.1.7)\n",
      "Requirement already satisfied: jupyterlab in d:\\documents\\projects\\surveyanalysis\\checkout\\.venv\\lib\\site-packages (from jupyter->-r requirements.txt (line 6)) (4.4.7)\n",
      "Requirement already satisfied: joblib>=1.2.0 in d:\\documents\\projects\\surveyanalysis\\checkout\\.venv\\lib\\site-packages (from scikit-learn->-r requirements.txt (line 7)) (1.5.2)\n",
      "Requirement already satisfied: threadpoolctl>=3.1.0 in d:\\documents\\projects\\surveyanalysis\\checkout\\.venv\\lib\\site-packages (from scikit-learn->-r requirements.txt (line 7)) (3.6.0)\n",
      "Requirement already satisfied: six>=1.5 in d:\\documents\\projects\\surveyanalysis\\checkout\\.venv\\lib\\site-packages (from python-dateutil>=2.8.2->pandas->-r requirements.txt (line 1)) (1.17.0)\n",
      "Requirement already satisfied: comm>=0.1.1 in d:\\documents\\projects\\surveyanalysis\\checkout\\.venv\\lib\\site-packages (from ipykernel->jupyter->-r requirements.txt (line 6)) (0.2.3)\n",
      "Requirement already satisfied: debugpy>=1.6.5 in d:\\documents\\projects\\surveyanalysis\\checkout\\.venv\\lib\\site-packages (from ipykernel->jupyter->-r requirements.txt (line 6)) (1.8.17)\n",
      "Requirement already satisfied: ipython>=7.23.1 in d:\\documents\\projects\\surveyanalysis\\checkout\\.venv\\lib\\site-packages (from ipykernel->jupyter->-r requirements.txt (line 6)) (9.5.0)\n",
      "Requirement already satisfied: jupyter-client>=8.0.0 in d:\\documents\\projects\\surveyanalysis\\checkout\\.venv\\lib\\site-packages (from ipykernel->jupyter->-r requirements.txt (line 6)) (8.6.3)\n",
      "Requirement already satisfied: jupyter-core!=5.0.*,>=4.12 in d:\\documents\\projects\\surveyanalysis\\checkout\\.venv\\lib\\site-packages (from ipykernel->jupyter->-r requirements.txt (line 6)) (5.8.1)\n",
      "Requirement already satisfied: matplotlib-inline>=0.1 in d:\\documents\\projects\\surveyanalysis\\checkout\\.venv\\lib\\site-packages (from ipykernel->jupyter->-r requirements.txt (line 6)) (0.1.7)\n",
      "Requirement already satisfied: nest-asyncio>=1.4 in d:\\documents\\projects\\surveyanalysis\\checkout\\.venv\\lib\\site-packages (from ipykernel->jupyter->-r requirements.txt (line 6)) (1.6.0)\n",
      "Requirement already satisfied: psutil>=5.7 in d:\\documents\\projects\\surveyanalysis\\checkout\\.venv\\lib\\site-packages (from ipykernel->jupyter->-r requirements.txt (line 6)) (7.0.0)\n",
      "Requirement already satisfied: pyzmq>=25 in d:\\documents\\projects\\surveyanalysis\\checkout\\.venv\\lib\\site-packages (from ipykernel->jupyter->-r requirements.txt (line 6)) (27.1.0)\n",
      "Requirement already satisfied: tornado>=6.2 in d:\\documents\\projects\\surveyanalysis\\checkout\\.venv\\lib\\site-packages (from ipykernel->jupyter->-r requirements.txt (line 6)) (6.5.2)\n",
      "Requirement already satisfied: traitlets>=5.4.0 in d:\\documents\\projects\\surveyanalysis\\checkout\\.venv\\lib\\site-packages (from ipykernel->jupyter->-r requirements.txt (line 6)) (5.14.3)\n",
      "Requirement already satisfied: colorama in d:\\documents\\projects\\surveyanalysis\\checkout\\.venv\\lib\\site-packages (from ipython>=7.23.1->ipykernel->jupyter->-r requirements.txt (line 6)) (0.4.6)\n",
      "Requirement already satisfied: decorator in d:\\documents\\projects\\surveyanalysis\\checkout\\.venv\\lib\\site-packages (from ipython>=7.23.1->ipykernel->jupyter->-r requirements.txt (line 6)) (5.2.1)\n",
      "Requirement already satisfied: ipython-pygments-lexers in d:\\documents\\projects\\surveyanalysis\\checkout\\.venv\\lib\\site-packages (from ipython>=7.23.1->ipykernel->jupyter->-r requirements.txt (line 6)) (1.1.1)\n",
      "Requirement already satisfied: jedi>=0.16 in d:\\documents\\projects\\surveyanalysis\\checkout\\.venv\\lib\\site-packages (from ipython>=7.23.1->ipykernel->jupyter->-r requirements.txt (line 6)) (0.19.2)\n",
      "Requirement already satisfied: prompt_toolkit<3.1.0,>=3.0.41 in d:\\documents\\projects\\surveyanalysis\\checkout\\.venv\\lib\\site-packages (from ipython>=7.23.1->ipykernel->jupyter->-r requirements.txt (line 6)) (3.0.52)\n",
      "Requirement already satisfied: pygments>=2.4.0 in d:\\documents\\projects\\surveyanalysis\\checkout\\.venv\\lib\\site-packages (from ipython>=7.23.1->ipykernel->jupyter->-r requirements.txt (line 6)) (2.19.2)\n",
      "Requirement already satisfied: stack_data in d:\\documents\\projects\\surveyanalysis\\checkout\\.venv\\lib\\site-packages (from ipython>=7.23.1->ipykernel->jupyter->-r requirements.txt (line 6)) (0.6.3)\n",
      "Requirement already satisfied: wcwidth in d:\\documents\\projects\\surveyanalysis\\checkout\\.venv\\lib\\site-packages (from prompt_toolkit<3.1.0,>=3.0.41->ipython>=7.23.1->ipykernel->jupyter->-r requirements.txt (line 6)) (0.2.13)\n",
      "Requirement already satisfied: parso<0.9.0,>=0.8.4 in d:\\documents\\projects\\surveyanalysis\\checkout\\.venv\\lib\\site-packages (from jedi>=0.16->ipython>=7.23.1->ipykernel->jupyter->-r requirements.txt (line 6)) (0.8.5)\n",
      "Requirement already satisfied: platformdirs>=2.5 in d:\\documents\\projects\\surveyanalysis\\checkout\\.venv\\lib\\site-packages (from jupyter-core!=5.0.*,>=4.12->ipykernel->jupyter->-r requirements.txt (line 6)) (4.4.0)\n",
      "Requirement already satisfied: pywin32>=300 in d:\\documents\\projects\\surveyanalysis\\checkout\\.venv\\lib\\site-packages (from jupyter-core!=5.0.*,>=4.12->ipykernel->jupyter->-r requirements.txt (line 6)) (311)\n",
      "Requirement already satisfied: widgetsnbextension~=4.0.14 in d:\\documents\\projects\\surveyanalysis\\checkout\\.venv\\lib\\site-packages (from ipywidgets->jupyter->-r requirements.txt (line 6)) (4.0.14)\n",
      "Requirement already satisfied: jupyterlab_widgets~=3.0.15 in d:\\documents\\projects\\surveyanalysis\\checkout\\.venv\\lib\\site-packages (from ipywidgets->jupyter->-r requirements.txt (line 6)) (3.0.15)\n",
      "Requirement already satisfied: async-lru>=1.0.0 in d:\\documents\\projects\\surveyanalysis\\checkout\\.venv\\lib\\site-packages (from jupyterlab->jupyter->-r requirements.txt (line 6)) (2.0.5)\n",
      "Requirement already satisfied: httpx<1,>=0.25.0 in d:\\documents\\projects\\surveyanalysis\\checkout\\.venv\\lib\\site-packages (from jupyterlab->jupyter->-r requirements.txt (line 6)) (0.28.1)\n",
      "Requirement already satisfied: jinja2>=3.0.3 in d:\\documents\\projects\\surveyanalysis\\checkout\\.venv\\lib\\site-packages (from jupyterlab->jupyter->-r requirements.txt (line 6)) (3.1.6)\n",
      "Requirement already satisfied: jupyter-lsp>=2.0.0 in d:\\documents\\projects\\surveyanalysis\\checkout\\.venv\\lib\\site-packages (from jupyterlab->jupyter->-r requirements.txt (line 6)) (2.3.0)\n",
      "Requirement already satisfied: jupyter-server<3,>=2.4.0 in d:\\documents\\projects\\surveyanalysis\\checkout\\.venv\\lib\\site-packages (from jupyterlab->jupyter->-r requirements.txt (line 6)) (2.17.0)\n",
      "Requirement already satisfied: jupyterlab-server<3,>=2.27.1 in d:\\documents\\projects\\surveyanalysis\\checkout\\.venv\\lib\\site-packages (from jupyterlab->jupyter->-r requirements.txt (line 6)) (2.27.3)\n",
      "Requirement already satisfied: notebook-shim>=0.2 in d:\\documents\\projects\\surveyanalysis\\checkout\\.venv\\lib\\site-packages (from jupyterlab->jupyter->-r requirements.txt (line 6)) (0.2.4)\n",
      "Requirement already satisfied: setuptools>=41.1.0 in d:\\documents\\projects\\surveyanalysis\\checkout\\.venv\\lib\\site-packages (from jupyterlab->jupyter->-r requirements.txt (line 6)) (80.9.0)\n",
      "Requirement already satisfied: anyio in d:\\documents\\projects\\surveyanalysis\\checkout\\.venv\\lib\\site-packages (from httpx<1,>=0.25.0->jupyterlab->jupyter->-r requirements.txt (line 6)) (4.10.0)\n",
      "Requirement already satisfied: certifi in d:\\documents\\projects\\surveyanalysis\\checkout\\.venv\\lib\\site-packages (from httpx<1,>=0.25.0->jupyterlab->jupyter->-r requirements.txt (line 6)) (2025.8.3)\n",
      "Requirement already satisfied: httpcore==1.* in d:\\documents\\projects\\surveyanalysis\\checkout\\.venv\\lib\\site-packages (from httpx<1,>=0.25.0->jupyterlab->jupyter->-r requirements.txt (line 6)) (1.0.9)\n",
      "Requirement already satisfied: idna in d:\\documents\\projects\\surveyanalysis\\checkout\\.venv\\lib\\site-packages (from httpx<1,>=0.25.0->jupyterlab->jupyter->-r requirements.txt (line 6)) (3.10)\n",
      "Requirement already satisfied: h11>=0.16 in d:\\documents\\projects\\surveyanalysis\\checkout\\.venv\\lib\\site-packages (from httpcore==1.*->httpx<1,>=0.25.0->jupyterlab->jupyter->-r requirements.txt (line 6)) (0.16.0)\n",
      "Requirement already satisfied: argon2-cffi>=21.1 in d:\\documents\\projects\\surveyanalysis\\checkout\\.venv\\lib\\site-packages (from jupyter-server<3,>=2.4.0->jupyterlab->jupyter->-r requirements.txt (line 6)) (25.1.0)\n",
      "Requirement already satisfied: jupyter-events>=0.11.0 in d:\\documents\\projects\\surveyanalysis\\checkout\\.venv\\lib\\site-packages (from jupyter-server<3,>=2.4.0->jupyterlab->jupyter->-r requirements.txt (line 6)) (0.12.0)\n",
      "Requirement already satisfied: jupyter-server-terminals>=0.4.4 in d:\\documents\\projects\\surveyanalysis\\checkout\\.venv\\lib\\site-packages (from jupyter-server<3,>=2.4.0->jupyterlab->jupyter->-r requirements.txt (line 6)) (0.5.3)\n",
      "Requirement already satisfied: nbformat>=5.3.0 in d:\\documents\\projects\\surveyanalysis\\checkout\\.venv\\lib\\site-packages (from jupyter-server<3,>=2.4.0->jupyterlab->jupyter->-r requirements.txt (line 6)) (5.10.4)\n",
      "Requirement already satisfied: prometheus-client>=0.9 in d:\\documents\\projects\\surveyanalysis\\checkout\\.venv\\lib\\site-packages (from jupyter-server<3,>=2.4.0->jupyterlab->jupyter->-r requirements.txt (line 6)) (0.22.1)\n",
      "Requirement already satisfied: pywinpty>=2.0.1 in d:\\documents\\projects\\surveyanalysis\\checkout\\.venv\\lib\\site-packages (from jupyter-server<3,>=2.4.0->jupyterlab->jupyter->-r requirements.txt (line 6)) (3.0.0)\n",
      "Requirement already satisfied: send2trash>=1.8.2 in d:\\documents\\projects\\surveyanalysis\\checkout\\.venv\\lib\\site-packages (from jupyter-server<3,>=2.4.0->jupyterlab->jupyter->-r requirements.txt (line 6)) (1.8.3)\n",
      "Requirement already satisfied: terminado>=0.8.3 in d:\\documents\\projects\\surveyanalysis\\checkout\\.venv\\lib\\site-packages (from jupyter-server<3,>=2.4.0->jupyterlab->jupyter->-r requirements.txt (line 6)) (0.18.1)\n",
      "Requirement already satisfied: websocket-client>=1.7 in d:\\documents\\projects\\surveyanalysis\\checkout\\.venv\\lib\\site-packages (from jupyter-server<3,>=2.4.0->jupyterlab->jupyter->-r requirements.txt (line 6)) (1.8.0)\n",
      "Requirement already satisfied: babel>=2.10 in d:\\documents\\projects\\surveyanalysis\\checkout\\.venv\\lib\\site-packages (from jupyterlab-server<3,>=2.27.1->jupyterlab->jupyter->-r requirements.txt (line 6)) (2.17.0)\n",
      "Requirement already satisfied: json5>=0.9.0 in d:\\documents\\projects\\surveyanalysis\\checkout\\.venv\\lib\\site-packages (from jupyterlab-server<3,>=2.27.1->jupyterlab->jupyter->-r requirements.txt (line 6)) (0.12.1)\n",
      "Requirement already satisfied: jsonschema>=4.18.0 in d:\\documents\\projects\\surveyanalysis\\checkout\\.venv\\lib\\site-packages (from jupyterlab-server<3,>=2.27.1->jupyterlab->jupyter->-r requirements.txt (line 6)) (4.25.1)\n",
      "Requirement already satisfied: requests>=2.31 in d:\\documents\\projects\\surveyanalysis\\checkout\\.venv\\lib\\site-packages (from jupyterlab-server<3,>=2.27.1->jupyterlab->jupyter->-r requirements.txt (line 6)) (2.32.5)\n",
      "Requirement already satisfied: sniffio>=1.1 in d:\\documents\\projects\\surveyanalysis\\checkout\\.venv\\lib\\site-packages (from anyio->httpx<1,>=0.25.0->jupyterlab->jupyter->-r requirements.txt (line 6)) (1.3.1)\n",
      "Requirement already satisfied: argon2-cffi-bindings in d:\\documents\\projects\\surveyanalysis\\checkout\\.venv\\lib\\site-packages (from argon2-cffi>=21.1->jupyter-server<3,>=2.4.0->jupyterlab->jupyter->-r requirements.txt (line 6)) (25.1.0)\n",
      "Requirement already satisfied: MarkupSafe>=2.0 in d:\\documents\\projects\\surveyanalysis\\checkout\\.venv\\lib\\site-packages (from jinja2>=3.0.3->jupyterlab->jupyter->-r requirements.txt (line 6)) (3.0.2)\n",
      "Requirement already satisfied: attrs>=22.2.0 in d:\\documents\\projects\\surveyanalysis\\checkout\\.venv\\lib\\site-packages (from jsonschema>=4.18.0->jupyterlab-server<3,>=2.27.1->jupyterlab->jupyter->-r requirements.txt (line 6)) (25.3.0)\n",
      "Requirement already satisfied: jsonschema-specifications>=2023.03.6 in d:\\documents\\projects\\surveyanalysis\\checkout\\.venv\\lib\\site-packages (from jsonschema>=4.18.0->jupyterlab-server<3,>=2.27.1->jupyterlab->jupyter->-r requirements.txt (line 6)) (2025.9.1)\n",
      "Requirement already satisfied: referencing>=0.28.4 in d:\\documents\\projects\\surveyanalysis\\checkout\\.venv\\lib\\site-packages (from jsonschema>=4.18.0->jupyterlab-server<3,>=2.27.1->jupyterlab->jupyter->-r requirements.txt (line 6)) (0.36.2)\n",
      "Requirement already satisfied: rpds-py>=0.7.1 in d:\\documents\\projects\\surveyanalysis\\checkout\\.venv\\lib\\site-packages (from jsonschema>=4.18.0->jupyterlab-server<3,>=2.27.1->jupyterlab->jupyter->-r requirements.txt (line 6)) (0.27.1)\n",
      "Requirement already satisfied: python-json-logger>=2.0.4 in d:\\documents\\projects\\surveyanalysis\\checkout\\.venv\\lib\\site-packages (from jupyter-events>=0.11.0->jupyter-server<3,>=2.4.0->jupyterlab->jupyter->-r requirements.txt (line 6)) (3.3.0)\n",
      "Requirement already satisfied: pyyaml>=5.3 in d:\\documents\\projects\\surveyanalysis\\checkout\\.venv\\lib\\site-packages (from jupyter-events>=0.11.0->jupyter-server<3,>=2.4.0->jupyterlab->jupyter->-r requirements.txt (line 6)) (6.0.2)\n",
      "Requirement already satisfied: rfc3339-validator in d:\\documents\\projects\\surveyanalysis\\checkout\\.venv\\lib\\site-packages (from jupyter-events>=0.11.0->jupyter-server<3,>=2.4.0->jupyterlab->jupyter->-r requirements.txt (line 6)) (0.1.4)\n",
      "Requirement already satisfied: rfc3986-validator>=0.1.1 in d:\\documents\\projects\\surveyanalysis\\checkout\\.venv\\lib\\site-packages (from jupyter-events>=0.11.0->jupyter-server<3,>=2.4.0->jupyterlab->jupyter->-r requirements.txt (line 6)) (0.1.1)\n",
      "Requirement already satisfied: fqdn in d:\\documents\\projects\\surveyanalysis\\checkout\\.venv\\lib\\site-packages (from jsonschema[format-nongpl]>=4.18.0->jupyter-events>=0.11.0->jupyter-server<3,>=2.4.0->jupyterlab->jupyter->-r requirements.txt (line 6)) (1.5.1)\n",
      "Requirement already satisfied: isoduration in d:\\documents\\projects\\surveyanalysis\\checkout\\.venv\\lib\\site-packages (from jsonschema[format-nongpl]>=4.18.0->jupyter-events>=0.11.0->jupyter-server<3,>=2.4.0->jupyterlab->jupyter->-r requirements.txt (line 6)) (20.11.0)\n",
      "Requirement already satisfied: jsonpointer>1.13 in d:\\documents\\projects\\surveyanalysis\\checkout\\.venv\\lib\\site-packages (from jsonschema[format-nongpl]>=4.18.0->jupyter-events>=0.11.0->jupyter-server<3,>=2.4.0->jupyterlab->jupyter->-r requirements.txt (line 6)) (3.0.0)\n",
      "Requirement already satisfied: rfc3987-syntax>=1.1.0 in d:\\documents\\projects\\surveyanalysis\\checkout\\.venv\\lib\\site-packages (from jsonschema[format-nongpl]>=4.18.0->jupyter-events>=0.11.0->jupyter-server<3,>=2.4.0->jupyterlab->jupyter->-r requirements.txt (line 6)) (1.1.0)\n",
      "Requirement already satisfied: uri-template in d:\\documents\\projects\\surveyanalysis\\checkout\\.venv\\lib\\site-packages (from jsonschema[format-nongpl]>=4.18.0->jupyter-events>=0.11.0->jupyter-server<3,>=2.4.0->jupyterlab->jupyter->-r requirements.txt (line 6)) (1.3.0)\n",
      "Requirement already satisfied: webcolors>=24.6.0 in d:\\documents\\projects\\surveyanalysis\\checkout\\.venv\\lib\\site-packages (from jsonschema[format-nongpl]>=4.18.0->jupyter-events>=0.11.0->jupyter-server<3,>=2.4.0->jupyterlab->jupyter->-r requirements.txt (line 6)) (24.11.1)\n",
      "Requirement already satisfied: beautifulsoup4 in d:\\documents\\projects\\surveyanalysis\\checkout\\.venv\\lib\\site-packages (from nbconvert->jupyter->-r requirements.txt (line 6)) (4.13.5)\n",
      "Requirement already satisfied: bleach!=5.0.0 in d:\\documents\\projects\\surveyanalysis\\checkout\\.venv\\lib\\site-packages (from bleach[css]!=5.0.0->nbconvert->jupyter->-r requirements.txt (line 6)) (6.2.0)\n",
      "Requirement already satisfied: defusedxml in d:\\documents\\projects\\surveyanalysis\\checkout\\.venv\\lib\\site-packages (from nbconvert->jupyter->-r requirements.txt (line 6)) (0.7.1)\n",
      "Requirement already satisfied: jupyterlab-pygments in d:\\documents\\projects\\surveyanalysis\\checkout\\.venv\\lib\\site-packages (from nbconvert->jupyter->-r requirements.txt (line 6)) (0.3.0)\n",
      "Requirement already satisfied: mistune<4,>=2.0.3 in d:\\documents\\projects\\surveyanalysis\\checkout\\.venv\\lib\\site-packages (from nbconvert->jupyter->-r requirements.txt (line 6)) (3.1.4)\n",
      "Requirement already satisfied: nbclient>=0.5.0 in d:\\documents\\projects\\surveyanalysis\\checkout\\.venv\\lib\\site-packages (from nbconvert->jupyter->-r requirements.txt (line 6)) (0.10.2)\n",
      "Requirement already satisfied: pandocfilters>=1.4.1 in d:\\documents\\projects\\surveyanalysis\\checkout\\.venv\\lib\\site-packages (from nbconvert->jupyter->-r requirements.txt (line 6)) (1.5.1)\n",
      "Requirement already satisfied: webencodings in d:\\documents\\projects\\surveyanalysis\\checkout\\.venv\\lib\\site-packages (from bleach!=5.0.0->bleach[css]!=5.0.0->nbconvert->jupyter->-r requirements.txt (line 6)) (0.5.1)\n",
      "Requirement already satisfied: tinycss2<1.5,>=1.1.0 in d:\\documents\\projects\\surveyanalysis\\checkout\\.venv\\lib\\site-packages (from bleach[css]!=5.0.0->nbconvert->jupyter->-r requirements.txt (line 6)) (1.4.0)\n",
      "Requirement already satisfied: fastjsonschema>=2.15 in d:\\documents\\projects\\surveyanalysis\\checkout\\.venv\\lib\\site-packages (from nbformat>=5.3.0->jupyter-server<3,>=2.4.0->jupyterlab->jupyter->-r requirements.txt (line 6)) (2.21.2)\n",
      "Requirement already satisfied: charset_normalizer<4,>=2 in d:\\documents\\projects\\surveyanalysis\\checkout\\.venv\\lib\\site-packages (from requests>=2.31->jupyterlab-server<3,>=2.27.1->jupyterlab->jupyter->-r requirements.txt (line 6)) (3.4.3)\n",
      "Requirement already satisfied: urllib3<3,>=1.21.1 in d:\\documents\\projects\\surveyanalysis\\checkout\\.venv\\lib\\site-packages (from requests>=2.31->jupyterlab-server<3,>=2.27.1->jupyterlab->jupyter->-r requirements.txt (line 6)) (2.5.0)\n",
      "Requirement already satisfied: lark>=1.2.2 in d:\\documents\\projects\\surveyanalysis\\checkout\\.venv\\lib\\site-packages (from rfc3987-syntax>=1.1.0->jsonschema[format-nongpl]>=4.18.0->jupyter-events>=0.11.0->jupyter-server<3,>=2.4.0->jupyterlab->jupyter->-r requirements.txt (line 6)) (1.2.2)\n",
      "Requirement already satisfied: cffi>=1.0.1 in d:\\documents\\projects\\surveyanalysis\\checkout\\.venv\\lib\\site-packages (from argon2-cffi-bindings->argon2-cffi>=21.1->jupyter-server<3,>=2.4.0->jupyterlab->jupyter->-r requirements.txt (line 6)) (2.0.0)\n",
      "Requirement already satisfied: pycparser in d:\\documents\\projects\\surveyanalysis\\checkout\\.venv\\lib\\site-packages (from cffi>=1.0.1->argon2-cffi-bindings->argon2-cffi>=21.1->jupyter-server<3,>=2.4.0->jupyterlab->jupyter->-r requirements.txt (line 6)) (2.23)\n",
      "Requirement already satisfied: soupsieve>1.2 in d:\\documents\\projects\\surveyanalysis\\checkout\\.venv\\lib\\site-packages (from beautifulsoup4->nbconvert->jupyter->-r requirements.txt (line 6)) (2.8)\n",
      "Requirement already satisfied: typing-extensions>=4.0.0 in d:\\documents\\projects\\surveyanalysis\\checkout\\.venv\\lib\\site-packages (from beautifulsoup4->nbconvert->jupyter->-r requirements.txt (line 6)) (4.15.0)\n",
      "Requirement already satisfied: arrow>=0.15.0 in d:\\documents\\projects\\surveyanalysis\\checkout\\.venv\\lib\\site-packages (from isoduration->jsonschema[format-nongpl]>=4.18.0->jupyter-events>=0.11.0->jupyter-server<3,>=2.4.0->jupyterlab->jupyter->-r requirements.txt (line 6)) (1.3.0)\n",
      "Requirement already satisfied: types-python-dateutil>=2.8.10 in d:\\documents\\projects\\surveyanalysis\\checkout\\.venv\\lib\\site-packages (from arrow>=0.15.0->isoduration->jsonschema[format-nongpl]>=4.18.0->jupyter-events>=0.11.0->jupyter-server<3,>=2.4.0->jupyterlab->jupyter->-r requirements.txt (line 6)) (2.9.0.20250822)\n",
      "Requirement already satisfied: executing>=1.2.0 in d:\\documents\\projects\\surveyanalysis\\checkout\\.venv\\lib\\site-packages (from stack_data->ipython>=7.23.1->ipykernel->jupyter->-r requirements.txt (line 6)) (2.2.1)\n",
      "Requirement already satisfied: asttokens>=2.1.0 in d:\\documents\\projects\\surveyanalysis\\checkout\\.venv\\lib\\site-packages (from stack_data->ipython>=7.23.1->ipykernel->jupyter->-r requirements.txt (line 6)) (3.0.0)\n",
      "Requirement already satisfied: pure-eval in d:\\documents\\projects\\surveyanalysis\\checkout\\.venv\\lib\\site-packages (from stack_data->ipython>=7.23.1->ipykernel->jupyter->-r requirements.txt (line 6)) (0.2.3)\n",
      "Note: you may need to restart the kernel to use updated packages.\n"
     ]
    }
   ],
   "source": [
    "%pip install -r requirements.txt"
   ]
  },
  {
   "cell_type": "markdown",
   "id": "b236215a",
   "metadata": {},
   "source": [
    "### Step 1.2 | Loading the Dataset"
   ]
  },
  {
   "cell_type": "markdown",
   "id": "553e7248",
   "metadata": {},
   "source": [
    "Load the survey responses into a pandas DataFrame which will facilitate easy manipulation and analysis:"
   ]
  },
  {
   "cell_type": "code",
   "execution_count": 12,
   "id": "b608136b",
   "metadata": {},
   "outputs": [
    {
     "name": "stdout",
     "output_type": "stream",
     "text": [
      "Loaded data/processed/1-checkout_survey_responses.csv\n"
     ]
    }
   ],
   "source": [
    "import os\n",
    "\n",
    "# Change directory\n",
    "project_dir = r'D:\\Documents\\projects\\SurveyAnalysis\\Checkout'\n",
    "os.chdir(project_dir)\n",
    "\n",
    "# Check if files exist\n",
    "survey_file = 'data/processed/1-checkout_survey_responses.csv'\n",
    "\n",
    "if os.path.exists(survey_file):\n",
    "    df = pd.read_csv(survey_file)\n",
    "    print(f\"Loaded {survey_file}\")\n",
    "else:\n",
    "    print(f\"File not found: {survey_file}\")\n",
    "    print(\"Current directory contents:\")\n",
    "    print(os.listdir('.'))\n"
   ]
  },
  {
   "cell_type": "markdown",
   "id": "a2b7e238",
   "metadata": {},
   "source": [
    "## Step 2 | Summarizing & Exploring Survey Data"
   ]
  },
  {
   "cell_type": "markdown",
   "id": "d8545a6d",
   "metadata": {},
   "source": [
    "When we collect survey data, the first step is to summarize the responses so that we can see what is typical, how much variation there is, and whether there are clear differences between groups. This stage provides a clear picture of the data before moving to more advanced analysis."
   ]
  },
  {
   "cell_type": "markdown",
   "id": "9beaf093",
   "metadata": {},
   "source": [
    "### Step 2.1 | Survey Response Overview"
   ]
  },
  {
   "cell_type": "code",
   "execution_count": 29,
   "id": "fb5e55bc",
   "metadata": {},
   "outputs": [
    {
     "data": {
      "application/vnd.microsoft.datawrangler.viewer.v0+json": {
       "columns": [
        {
         "name": "index",
         "rawType": "int64",
         "type": "integer"
        },
        {
         "name": "Age_Group",
         "rawType": "object",
         "type": "string"
        },
        {
         "name": "Ease_of_Checkout",
         "rawType": "category",
         "type": "unknown"
        },
        {
         "name": "Time_Spent_Minutes",
         "rawType": "float64",
         "type": "float"
        },
        {
         "name": "Payment_Method",
         "rawType": "object",
         "type": "string"
        }
       ],
       "ref": "2eb06e5d-07ca-4961-ad5d-58851e9cc3d8",
       "rows": [
        [
         "0",
         "25-34",
         "4",
         "5.6",
         "BNPL"
        ],
        [
         "1",
         "55-64",
         "2",
         "4.0",
         "BNPL"
        ],
        [
         "2",
         "35-44",
         "3",
         "4.8",
         "BNPL"
        ],
        [
         "3",
         "35-44",
         "5",
         "3.6",
         "Card"
        ],
        [
         "4",
         "18-24",
         "4",
         "4.4",
         "Card"
        ],
        [
         "5",
         "18-24",
         "1",
         "3.8",
         "PayPal"
        ],
        [
         "6",
         "18-24",
         "2",
         "4.1",
         "BNPL"
        ],
        [
         "7",
         "45-54",
         "4",
         "4.7",
         "PayPal"
        ],
        [
         "8",
         "35-44",
         "1",
         "3.0",
         "PayPal"
        ],
        [
         "9",
         "35-44",
         "3",
         "6.5",
         "Card"
        ]
       ],
       "shape": {
        "columns": 4,
        "rows": 10
       }
      },
      "text/html": [
       "<div>\n",
       "<style scoped>\n",
       "    .dataframe tbody tr th:only-of-type {\n",
       "        vertical-align: middle;\n",
       "    }\n",
       "\n",
       "    .dataframe tbody tr th {\n",
       "        vertical-align: top;\n",
       "    }\n",
       "\n",
       "    .dataframe thead th {\n",
       "        text-align: right;\n",
       "    }\n",
       "</style>\n",
       "<table border=\"1\" class=\"dataframe\">\n",
       "  <thead>\n",
       "    <tr style=\"text-align: right;\">\n",
       "      <th></th>\n",
       "      <th>Age_Group</th>\n",
       "      <th>Ease_of_Checkout</th>\n",
       "      <th>Time_Spent_Minutes</th>\n",
       "      <th>Payment_Method</th>\n",
       "    </tr>\n",
       "  </thead>\n",
       "  <tbody>\n",
       "    <tr>\n",
       "      <th>0</th>\n",
       "      <td>25-34</td>\n",
       "      <td>4</td>\n",
       "      <td>5.6</td>\n",
       "      <td>BNPL</td>\n",
       "    </tr>\n",
       "    <tr>\n",
       "      <th>1</th>\n",
       "      <td>55-64</td>\n",
       "      <td>2</td>\n",
       "      <td>4.0</td>\n",
       "      <td>BNPL</td>\n",
       "    </tr>\n",
       "    <tr>\n",
       "      <th>2</th>\n",
       "      <td>35-44</td>\n",
       "      <td>3</td>\n",
       "      <td>4.8</td>\n",
       "      <td>BNPL</td>\n",
       "    </tr>\n",
       "    <tr>\n",
       "      <th>3</th>\n",
       "      <td>35-44</td>\n",
       "      <td>5</td>\n",
       "      <td>3.6</td>\n",
       "      <td>Card</td>\n",
       "    </tr>\n",
       "    <tr>\n",
       "      <th>4</th>\n",
       "      <td>18-24</td>\n",
       "      <td>4</td>\n",
       "      <td>4.4</td>\n",
       "      <td>Card</td>\n",
       "    </tr>\n",
       "    <tr>\n",
       "      <th>5</th>\n",
       "      <td>18-24</td>\n",
       "      <td>1</td>\n",
       "      <td>3.8</td>\n",
       "      <td>PayPal</td>\n",
       "    </tr>\n",
       "    <tr>\n",
       "      <th>6</th>\n",
       "      <td>18-24</td>\n",
       "      <td>2</td>\n",
       "      <td>4.1</td>\n",
       "      <td>BNPL</td>\n",
       "    </tr>\n",
       "    <tr>\n",
       "      <th>7</th>\n",
       "      <td>45-54</td>\n",
       "      <td>4</td>\n",
       "      <td>4.7</td>\n",
       "      <td>PayPal</td>\n",
       "    </tr>\n",
       "    <tr>\n",
       "      <th>8</th>\n",
       "      <td>35-44</td>\n",
       "      <td>1</td>\n",
       "      <td>3.0</td>\n",
       "      <td>PayPal</td>\n",
       "    </tr>\n",
       "    <tr>\n",
       "      <th>9</th>\n",
       "      <td>35-44</td>\n",
       "      <td>3</td>\n",
       "      <td>6.5</td>\n",
       "      <td>Card</td>\n",
       "    </tr>\n",
       "  </tbody>\n",
       "</table>\n",
       "</div>"
      ],
      "text/plain": [
       "  Age_Group Ease_of_Checkout  Time_Spent_Minutes Payment_Method\n",
       "0     25-34                4                 5.6           BNPL\n",
       "1     55-64                2                 4.0           BNPL\n",
       "2     35-44                3                 4.8           BNPL\n",
       "3     35-44                5                 3.6           Card\n",
       "4     18-24                4                 4.4           Card\n",
       "5     18-24                1                 3.8         PayPal\n",
       "6     18-24                2                 4.1           BNPL\n",
       "7     45-54                4                 4.7         PayPal\n",
       "8     35-44                1                 3.0         PayPal\n",
       "9     35-44                3                 6.5           Card"
      ]
     },
     "execution_count": 29,
     "metadata": {},
     "output_type": "execute_result"
    }
   ],
   "source": [
    "## Preliminary analysis to understand the structure and content of the dataset\n",
    "df.head(10)"
   ]
  },
  {
   "cell_type": "code",
   "execution_count": 38,
   "id": "0863de66",
   "metadata": {},
   "outputs": [
    {
     "name": "stdout",
     "output_type": "stream",
     "text": [
      "<class 'pandas.core.frame.DataFrame'>\n",
      "RangeIndex: 200 entries, 0 to 199\n",
      "Data columns (total 4 columns):\n",
      " #   Column              Non-Null Count  Dtype  \n",
      "---  ------              --------------  -----  \n",
      " 0   Age_Group           200 non-null    object \n",
      " 1   Ease_of_Checkout    200 non-null    int64  \n",
      " 2   Time_Spent_Minutes  200 non-null    float64\n",
      " 3   Payment_Method      200 non-null    object \n",
      "dtypes: float64(1), int64(1), object(2)\n",
      "memory usage: 6.4+ KB\n"
     ]
    }
   ],
   "source": [
    "df.info()"
   ]
  },
  {
   "cell_type": "code",
   "execution_count": 36,
   "id": "a6791687",
   "metadata": {},
   "outputs": [],
   "source": [
    "df['Ease_of_Checkout'] = df['Ease_of_Checkout'].astype('int64')"
   ]
  },
  {
   "cell_type": "code",
   "execution_count": 31,
   "id": "a1a4ad7f",
   "metadata": {},
   "outputs": [
    {
     "name": "stdout",
     "output_type": "stream",
     "text": [
      "Shape of complete survey data :  (200, 4)\n"
     ]
    }
   ],
   "source": [
    "print(\"Shape of complete survey data : \", df.shape)"
   ]
  },
  {
   "cell_type": "markdown",
   "id": "83cfd543",
   "metadata": {},
   "source": [
    "Inferences:"
   ]
  },
  {
   "cell_type": "markdown",
   "id": "82847d16",
   "metadata": {},
   "source": [
    "The survey responses dataset consists of 200 entries and 4 columns. Here is a brief overview of each column:\n",
    "\n",
    "- Age_Group: This is an object data type column that contains the age range of each respondent. Each group represent common age ranges. \n",
    "\n",
    "- Ease_of_Checkout: \n",
    "\n",
    "- Time_Spent_Minutes: \n",
    "\n",
    "- Payment_Method:\n",
    "\n"
   ]
  },
  {
   "cell_type": "markdown",
   "id": "0b636e31",
   "metadata": {},
   "source": [
    "### Step 2.2 | Summary Statistics\n",
    "\n",
    "Generate summary statistics to gain initial insights into the data distribution."
   ]
  },
  {
   "cell_type": "markdown",
   "id": "24d30016",
   "metadata": {},
   "source": [
    "#### Step 2.2.1 Numeric Data"
   ]
  },
  {
   "cell_type": "markdown",
   "id": "aed6efd4",
   "metadata": {},
   "source": [
    "1. Measures of Central Tendency"
   ]
  },
  {
   "cell_type": "code",
   "execution_count": 59,
   "id": "ced37c65",
   "metadata": {},
   "outputs": [
    {
     "data": {
      "application/vnd.microsoft.datawrangler.viewer.v0+json": {
       "columns": [
        {
         "name": "index",
         "rawType": "object",
         "type": "string"
        },
        {
         "name": "count",
         "rawType": "float64",
         "type": "float"
        },
        {
         "name": "mean",
         "rawType": "float64",
         "type": "float"
        },
        {
         "name": "std",
         "rawType": "float64",
         "type": "float"
        },
        {
         "name": "min",
         "rawType": "float64",
         "type": "float"
        },
        {
         "name": "25%",
         "rawType": "float64",
         "type": "float"
        },
        {
         "name": "50%",
         "rawType": "float64",
         "type": "float"
        },
        {
         "name": "75%",
         "rawType": "float64",
         "type": "float"
        },
        {
         "name": "max",
         "rawType": "float64",
         "type": "float"
        }
       ],
       "ref": "c626d7d3-aa2d-495f-bc0a-0cbcdec5c835",
       "rows": [
        [
         "Ease_of_Checkout",
         "200.0",
         "3.68",
         "1.1594488380434045",
         "1.0",
         "3.0",
         "4.0",
         "4.0",
         "5.0"
        ],
        [
         "Time_Spent_Minutes",
         "200.0",
         "3.9945",
         "1.1850491370767846",
         "1.2",
         "3.1",
         "4.0",
         "4.725",
         "7.7"
        ]
       ],
       "shape": {
        "columns": 8,
        "rows": 2
       }
      },
      "text/html": [
       "<div>\n",
       "<style scoped>\n",
       "    .dataframe tbody tr th:only-of-type {\n",
       "        vertical-align: middle;\n",
       "    }\n",
       "\n",
       "    .dataframe tbody tr th {\n",
       "        vertical-align: top;\n",
       "    }\n",
       "\n",
       "    .dataframe thead th {\n",
       "        text-align: right;\n",
       "    }\n",
       "</style>\n",
       "<table border=\"1\" class=\"dataframe\">\n",
       "  <thead>\n",
       "    <tr style=\"text-align: right;\">\n",
       "      <th></th>\n",
       "      <th>count</th>\n",
       "      <th>mean</th>\n",
       "      <th>std</th>\n",
       "      <th>min</th>\n",
       "      <th>25%</th>\n",
       "      <th>50%</th>\n",
       "      <th>75%</th>\n",
       "      <th>max</th>\n",
       "    </tr>\n",
       "  </thead>\n",
       "  <tbody>\n",
       "    <tr>\n",
       "      <th>Ease_of_Checkout</th>\n",
       "      <td>200.0</td>\n",
       "      <td>3.6800</td>\n",
       "      <td>1.159449</td>\n",
       "      <td>1.0</td>\n",
       "      <td>3.0</td>\n",
       "      <td>4.0</td>\n",
       "      <td>4.000</td>\n",
       "      <td>5.0</td>\n",
       "    </tr>\n",
       "    <tr>\n",
       "      <th>Time_Spent_Minutes</th>\n",
       "      <td>200.0</td>\n",
       "      <td>3.9945</td>\n",
       "      <td>1.185049</td>\n",
       "      <td>1.2</td>\n",
       "      <td>3.1</td>\n",
       "      <td>4.0</td>\n",
       "      <td>4.725</td>\n",
       "      <td>7.7</td>\n",
       "    </tr>\n",
       "  </tbody>\n",
       "</table>\n",
       "</div>"
      ],
      "text/plain": [
       "                    count    mean       std  min  25%  50%    75%  max\n",
       "Ease_of_Checkout    200.0  3.6800  1.159449  1.0  3.0  4.0  4.000  5.0\n",
       "Time_Spent_Minutes  200.0  3.9945  1.185049  1.2  3.1  4.0  4.725  7.7"
      ]
     },
     "execution_count": 59,
     "metadata": {},
     "output_type": "execute_result"
    }
   ],
   "source": [
    "#Summary statistics for numerical variables\n",
    "df.describe().T"
   ]
  },
  {
   "cell_type": "markdown",
   "id": "8cb0b387",
   "metadata": {},
   "source": [
    "2. Measures of Variability (Spread)"
   ]
  },
  {
   "cell_type": "code",
   "execution_count": 37,
   "id": "af530e96",
   "metadata": {},
   "outputs": [
    {
     "name": "stdout",
     "output_type": "stream",
     "text": [
      "Data Range for Numerical Variables:\n",
      "                     min  max\n",
      "Ease_of_Checkout    1.0  5.0\n",
      "Time_Spent_Minutes  1.2  7.7\n",
      "Range for Ease of Checkout: 4\n",
      "Range for Time Spent (in minutes): 6.5\n"
     ]
    }
   ],
   "source": [
    "#Range for numerical variables\n",
    "data_range = df.describe().T[['min', 'max']]\n",
    "range_ease = df[\"Ease_of_Checkout\"].max() - df[\"Ease_of_Checkout\"].min()\n",
    "range_time = df[\"Time_Spent_Minutes\"].max() - df[\"Time_Spent_Minutes\"].min()\n",
    "print(\"Data Range for Numerical Variables:\\n\", data_range)\n",
    "print(\"Range for Ease of Checkout:\", range_ease)\n",
    "print(\"Range for Time Spent (in minutes):\", range_time)"
   ]
  },
  {
   "cell_type": "code",
   "execution_count": null,
   "id": "fcd30273",
   "metadata": {},
   "outputs": [
    {
     "name": "stdout",
     "output_type": "stream",
     "text": [
      "Interquartile Range (IQR) for Ease of Checkout: 1.0\n",
      "Interquartile Range (IQR) for Time Spent (in minutes): 1.6249999999999996\n"
     ]
    }
   ],
   "source": [
    "# Interquartile Range (IQR) for numerical variables\n",
    "Q1_ease = df[\"Ease_of_Checkout\"].quantile(0.25)\n",
    "Q3_ease = df[\"Ease_of_Checkout\"].quantile(0.75)\n",
    "Q1_time = df[\"Time_Spent_Minutes\"].quantile(0.25)\n",
    "Q3_time = df[\"Time_Spent_Minutes\"].quantile(0.75)\n",
    "iqr_ease = Q3_ease - Q1_ease\n",
    "iqr_time = Q3_time - Q1_time\n",
    "print(\"Interquartile Range (IQR) for Ease of Checkout:\", iqr_ease)\n",
    "print(\"Interquartile Range (IQR) for Time Spent (in minutes):\", iqr_time)"
   ]
  },
  {
   "cell_type": "code",
   "execution_count": null,
   "id": "4e4e00a2",
   "metadata": {},
   "outputs": [
    {
     "name": "stdout",
     "output_type": "stream",
     "text": [
      "Mean Absolute Deviation for Ease of Checkout: 0.9220000000000002\n",
      "Mean Absolute Deviation for Time Spent (in minutes): 0.9445549999999998\n"
     ]
    }
   ],
   "source": [
    "# Mean Absolute Deviation for numerical variables\n",
    "# Compute MAD manually and coerce non-numeric values if present\n",
    "ease_series = pd.to_numeric(df[\"Ease_of_Checkout\"], errors='coerce')\n",
    "time_series = pd.to_numeric(df[\"Time_Spent_Minutes\"], errors='coerce')\n",
    "mad_ease = (ease_series - ease_series.mean()).abs().mean()\n",
    "mad_time = (time_series - time_series.mean()).abs().mean()\n",
    "print(\"Mean Absolute Deviation for Ease of Checkout:\", mad_ease)\n",
    "print(\"Mean Absolute Deviation for Time Spent (in minutes):\", mad_time)"
   ]
  },
  {
   "cell_type": "code",
   "execution_count": null,
   "id": "a5132ea1",
   "metadata": {},
   "outputs": [
    {
     "name": "stdout",
     "output_type": "stream",
     "text": [
      "Variance for Ease of Checkout: 1.344321608040201\n",
      "Variance for Time Spent (in minutes): 1.404341457286432\n"
     ]
    }
   ],
   "source": [
    "# Variance\n",
    "variance_ease = df[\"Ease_of_Checkout\"].var()\n",
    "variance_time = df[\"Time_Spent_Minutes\"].var()  \n",
    "print(\"Variance for Ease of Checkout:\", variance_ease)\n",
    "print(\"Variance for Time Spent (in minutes):\", variance_time)"
   ]
  },
  {
   "cell_type": "markdown",
   "id": "f69e9567",
   "metadata": {},
   "source": [
    "Inferences:\n",
    "\n",
    "- <b>Ease of Checkout</b>:\n",
    "\n",
    "     - The average ease of checkout score is a 3.68.\n",
    "     - The middle 50% of respondents scored between 3 and 4  (tight cluster).\n",
    "     - The ease of checkout score is based on a 1 to 5 scale.\n",
    "     - MAD = 0.92, Std = 1.16, Variance = 1.34 → Variability is low to moderate. Responses don’t deviate more than ~1 point from the mean.\n",
    "\n",
    "        -  <b>Interpretation:\n",
    "\n",
    "            Most respondents found the checkout process fairly easy (average rating 3.7/5). Ratings are consistent, with most clustered around 3–4. A minority rated it very difficult (1) or very easy (5), but the majority view leans toward “easy.”</b>\n",
    "    \n",
    "\n",
    "- <b>Time Spent in Minutes</b>:\n",
    "\n",
    "    - the average time spent (in minutes) is approximately 3.99 and the middle 50% spent 4 minutes.\n",
    "    - the average time spent shows a spread of 6.5 minutes, with a range from 1.2 minutes (72 seconds) to 7.7 minutes (462 seconds).\n",
    "    - There's moderate variability based on MAD = 0.94, Std = 1.19, Variance = 1.40. Most people were within ±1 minute of the mean, though a few took as long as 7+ minutes. \n",
    "\n",
    "        - <b>Interpretation:\n",
    "\n",
    "             On average, respondents spent ~4 minutes at checkout. The majority were tightly clustered around this value (3–5 minutes). A few outliers spent significantly longer (7+ minutes), stretching the range.</b>"
   ]
  },
  {
   "cell_type": "markdown",
   "id": "9430ab3e",
   "metadata": {},
   "source": [
    "3. Shape of the Distribution: Skewness and Kurtosis"
   ]
  },
  {
   "cell_type": "code",
   "execution_count": null,
   "id": "a89edd0b",
   "metadata": {},
   "outputs": [
    {
     "name": "stdout",
     "output_type": "stream",
     "text": [
      "Skewness for Ease of Checkout: -0.8747963156437871\n",
      "Kurtosis for Ease of Checkout: 0.03115942810030603\n",
      "Skewness for Time Spent (in minutes): 0.27294074359934006\n",
      "Kurtosis for Time Spent (in minutes): -0.1834005429307468\n"
     ]
    }
   ],
   "source": [
    "\n",
    "skewness_ease = df[\"Ease_of_Checkout\"].skew()\n",
    "kurtosis_ease = df[\"Ease_of_Checkout\"].kurtosis()   \n",
    "skewness_time = df[\"Time_Spent_Minutes\"].skew()\n",
    "kurtosis_time = df[\"Time_Spent_Minutes\"].kurtosis()\n",
    "print(\"Skewness for Ease of Checkout:\", skewness_ease)\n",
    "print(\"Kurtosis for Ease of Checkout:\", kurtosis_ease)  \n",
    "print(\"Skewness for Time Spent (in minutes):\", skewness_time)\n",
    "print(\"Kurtosis for Time Spent (in minutes):\", kurtosis_time)"
   ]
  },
  {
   "cell_type": "markdown",
   "id": "4dc6440c",
   "metadata": {},
   "source": [
    "Inferences:\n",
    "\n",
    "1. Ease of Checkout  \n",
    "\n",
    "    - Skewness = -0.875\n",
    "\n",
    "        - Moderate negative skew → most people rated checkout as fairly easy (3–5), but a small group gave very low scores (1–2).\n",
    "\n",
    "        - Pulls the “tail” to the left.\n",
    "\n",
    "    - Kurtosis = 0.03\n",
    "\n",
    "        - Very close to 0 → distribution is similar to a normal bell curve in terms of tails and peakedness.\n",
    "\n",
    "        - No unusual concentration of extreme outliers.\n",
    "\n",
    "    <b>Interpretation:\n",
    "\n",
    "    Ratings are fairly consistent, leaning toward easy checkout, with just a handful of respondents who rated it very difficult. The shape is close to normal, so the data isn’t overly spiky or flat.</b>\n",
    "<br></br>\n",
    "\n",
    "2. Time Spent (minutes)\n",
    "\n",
    "    - Skewness = 0.273 \n",
    "\n",
    "        - Slight positive skew → most people spend ~4 minutes, but a few take longer (closer to 7+ minutes).\n",
    "\n",
    "        - Distribution is nearly symmetric overall.\n",
    "\n",
    "    - Kurtosis = -0.183\n",
    "\n",
    "        - Slightly below 0 → tails are a bit lighter than normal (fewer extreme outliers).\n",
    "\n",
    "        - Data is somewhat “flatter” than a perfect bell curve.\n",
    "\n",
    "    <b> Interpretation:\n",
    "\n",
    "    Checkout time is centered tightly around 4 minutes, with only a small number of longer outliers. The distribution is smooth and fairly flat, without heavy tails."
   ]
  },
  {
   "cell_type": "markdown",
   "id": "2d20f67c",
   "metadata": {},
   "source": [
    "#### Step 2.2.2 Categorical Data"
   ]
  },
  {
   "cell_type": "code",
   "execution_count": 32,
   "id": "aa0c6312",
   "metadata": {},
   "outputs": [
    {
     "data": {
      "application/vnd.microsoft.datawrangler.viewer.v0+json": {
       "columns": [
        {
         "name": "index",
         "rawType": "object",
         "type": "string"
        },
        {
         "name": "count",
         "rawType": "object",
         "type": "unknown"
        },
        {
         "name": "unique",
         "rawType": "object",
         "type": "unknown"
        },
        {
         "name": "top",
         "rawType": "object",
         "type": "string"
        },
        {
         "name": "freq",
         "rawType": "object",
         "type": "unknown"
        }
       ],
       "ref": "877025d8-2345-45f4-ad75-f172a0e28faa",
       "rows": [
        [
         "Age_Group",
         "200",
         "5",
         "25-34",
         "56"
        ],
        [
         "Payment_Method",
         "200",
         "3",
         "Card",
         "98"
        ]
       ],
       "shape": {
        "columns": 4,
        "rows": 2
       }
      },
      "text/html": [
       "<div>\n",
       "<style scoped>\n",
       "    .dataframe tbody tr th:only-of-type {\n",
       "        vertical-align: middle;\n",
       "    }\n",
       "\n",
       "    .dataframe tbody tr th {\n",
       "        vertical-align: top;\n",
       "    }\n",
       "\n",
       "    .dataframe thead th {\n",
       "        text-align: right;\n",
       "    }\n",
       "</style>\n",
       "<table border=\"1\" class=\"dataframe\">\n",
       "  <thead>\n",
       "    <tr style=\"text-align: right;\">\n",
       "      <th></th>\n",
       "      <th>count</th>\n",
       "      <th>unique</th>\n",
       "      <th>top</th>\n",
       "      <th>freq</th>\n",
       "    </tr>\n",
       "  </thead>\n",
       "  <tbody>\n",
       "    <tr>\n",
       "      <th>Age_Group</th>\n",
       "      <td>200</td>\n",
       "      <td>5</td>\n",
       "      <td>25-34</td>\n",
       "      <td>56</td>\n",
       "    </tr>\n",
       "    <tr>\n",
       "      <th>Payment_Method</th>\n",
       "      <td>200</td>\n",
       "      <td>3</td>\n",
       "      <td>Card</td>\n",
       "      <td>98</td>\n",
       "    </tr>\n",
       "  </tbody>\n",
       "</table>\n",
       "</div>"
      ],
      "text/plain": [
       "               count unique    top freq\n",
       "Age_Group        200      5  25-34   56\n",
       "Payment_Method   200      3   Card   98"
      ]
     },
     "execution_count": 32,
     "metadata": {},
     "output_type": "execute_result"
    }
   ],
   "source": [
    "# Summary statistics for categorical variables\n",
    "df.describe(include='object').T\n"
   ]
  },
  {
   "cell_type": "markdown",
   "id": "108272b9",
   "metadata": {},
   "source": [
    "Inferences:\n",
    "\n",
    "- <b>Age Group</b>:\n",
    "    - There are 5 unique age_groups, representing different audiences.\n",
    "    - The most frequent age group audience is 25-34, representing 28% of respondents.\n",
    "\n",
    "- <b>Payment_Method</b>:\n",
    "    - There are 3 unique payment methods: Buy Now Pay Later (BNPL), PayPal, and Card.\n",
    "    - The most frequent payment method is credit card.\n",
    "\n",
    "    "
   ]
  },
  {
   "cell_type": "markdown",
   "id": "5ec96f17",
   "metadata": {},
   "source": []
  },
  {
   "cell_type": "markdown",
   "id": "3c4e19cb",
   "metadata": {},
   "source": [
    "#### Step 2.2.3 Descriptive Statistics by Age Group"
   ]
  },
  {
   "cell_type": "markdown",
   "id": "7e5ee491",
   "metadata": {},
   "source": [
    "Often you will want to break down your descriptive statistics down by group (demographic group, condition, etc.). This helps you see if patterns differ across the groups:\n",
    "\n",
    "- Compare means, medians, variability within each group.\n",
    "- Examine whether the shape (skewness) differs by group."
   ]
  },
  {
   "cell_type": "code",
   "execution_count": 41,
   "id": "0a847f60",
   "metadata": {},
   "outputs": [
    {
     "data": {
      "application/vnd.microsoft.datawrangler.viewer.v0+json": {
       "columns": [
        {
         "name": "(None, None)",
         "rawType": "object",
         "type": "unknown"
        },
        {
         "name": "18-24",
         "rawType": "float64",
         "type": "float"
        },
        {
         "name": "25-34",
         "rawType": "float64",
         "type": "float"
        },
        {
         "name": "35-44",
         "rawType": "float64",
         "type": "float"
        },
        {
         "name": "45-54",
         "rawType": "float64",
         "type": "float"
        },
        {
         "name": "55-64",
         "rawType": "float64",
         "type": "float"
        }
       ],
       "ref": "69a6ec79-41df-4ddf-97b4-7e67fae5a022",
       "rows": [
        [
         "('Ease_of_Checkout', 'count')",
         "46.0",
         "56.0",
         "47.0",
         "32.0",
         "19.0"
        ],
        [
         "('Ease_of_Checkout', 'mean')",
         "3.5434782608695654",
         "3.7142857142857144",
         "3.723404255319149",
         "3.96875",
         "3.3157894736842106"
        ],
        [
         "('Ease_of_Checkout', 'std')",
         "1.2772630763408042",
         "1.1235380110782467",
         "1.228327382708671",
         "0.8607714094664383",
         "1.2042808632793345"
        ],
        [
         "('Ease_of_Checkout', 'min')",
         "1.0",
         "1.0",
         "1.0",
         "2.0",
         "1.0"
        ],
        [
         "('Ease_of_Checkout', '25%')",
         "3.0",
         "3.0",
         "3.0",
         "3.75",
         "2.5"
        ],
        [
         "('Ease_of_Checkout', '50%')",
         "4.0",
         "4.0",
         "4.0",
         "4.0",
         "4.0"
        ],
        [
         "('Ease_of_Checkout', '75%')",
         "4.0",
         "4.0",
         "5.0",
         "5.0",
         "4.0"
        ],
        [
         "('Ease_of_Checkout', 'max')",
         "5.0",
         "5.0",
         "5.0",
         "5.0",
         "5.0"
        ],
        [
         "('Time_Spent_Minutes', 'count')",
         "46.0",
         "56.0",
         "47.0",
         "32.0",
         "19.0"
        ],
        [
         "('Time_Spent_Minutes', 'mean')",
         "3.9369565217391305",
         "4.042857142857143",
         "4.146808510638299",
         "4.00625",
         "3.594736842105263"
        ],
        [
         "('Time_Spent_Minutes', 'std')",
         "1.3464948233018739",
         "1.2307953293936174",
         "1.0968038673364784",
         "1.180469425489762",
         "0.8031007161209098"
        ],
        [
         "('Time_Spent_Minutes', 'min')",
         "1.5",
         "1.9",
         "2.1",
         "1.2",
         "2.3"
        ],
        [
         "('Time_Spent_Minutes', '25%')",
         "3.0",
         "3.0",
         "3.3",
         "3.3",
         "3.1"
        ],
        [
         "('Time_Spent_Minutes', '50%')",
         "4.05",
         "3.95",
         "4.0",
         "3.95",
         "3.4"
        ],
        [
         "('Time_Spent_Minutes', '75%')",
         "4.675",
         "4.8",
         "4.9",
         "4.85",
         "4.05"
        ],
        [
         "('Time_Spent_Minutes', 'max')",
         "7.7",
         "6.6",
         "6.5",
         "6.3",
         "5.4"
        ]
       ],
       "shape": {
        "columns": 5,
        "rows": 16
       }
      },
      "text/html": [
       "<div>\n",
       "<style scoped>\n",
       "    .dataframe tbody tr th:only-of-type {\n",
       "        vertical-align: middle;\n",
       "    }\n",
       "\n",
       "    .dataframe tbody tr th {\n",
       "        vertical-align: top;\n",
       "    }\n",
       "\n",
       "    .dataframe thead th {\n",
       "        text-align: right;\n",
       "    }\n",
       "</style>\n",
       "<table border=\"1\" class=\"dataframe\">\n",
       "  <thead>\n",
       "    <tr style=\"text-align: right;\">\n",
       "      <th></th>\n",
       "      <th>Age_Group</th>\n",
       "      <th>18-24</th>\n",
       "      <th>25-34</th>\n",
       "      <th>35-44</th>\n",
       "      <th>45-54</th>\n",
       "      <th>55-64</th>\n",
       "    </tr>\n",
       "  </thead>\n",
       "  <tbody>\n",
       "    <tr>\n",
       "      <th rowspan=\"8\" valign=\"top\">Ease_of_Checkout</th>\n",
       "      <th>count</th>\n",
       "      <td>46.000000</td>\n",
       "      <td>56.000000</td>\n",
       "      <td>47.000000</td>\n",
       "      <td>32.000000</td>\n",
       "      <td>19.000000</td>\n",
       "    </tr>\n",
       "    <tr>\n",
       "      <th>mean</th>\n",
       "      <td>3.543478</td>\n",
       "      <td>3.714286</td>\n",
       "      <td>3.723404</td>\n",
       "      <td>3.968750</td>\n",
       "      <td>3.315789</td>\n",
       "    </tr>\n",
       "    <tr>\n",
       "      <th>std</th>\n",
       "      <td>1.277263</td>\n",
       "      <td>1.123538</td>\n",
       "      <td>1.228327</td>\n",
       "      <td>0.860771</td>\n",
       "      <td>1.204281</td>\n",
       "    </tr>\n",
       "    <tr>\n",
       "      <th>min</th>\n",
       "      <td>1.000000</td>\n",
       "      <td>1.000000</td>\n",
       "      <td>1.000000</td>\n",
       "      <td>2.000000</td>\n",
       "      <td>1.000000</td>\n",
       "    </tr>\n",
       "    <tr>\n",
       "      <th>25%</th>\n",
       "      <td>3.000000</td>\n",
       "      <td>3.000000</td>\n",
       "      <td>3.000000</td>\n",
       "      <td>3.750000</td>\n",
       "      <td>2.500000</td>\n",
       "    </tr>\n",
       "    <tr>\n",
       "      <th>50%</th>\n",
       "      <td>4.000000</td>\n",
       "      <td>4.000000</td>\n",
       "      <td>4.000000</td>\n",
       "      <td>4.000000</td>\n",
       "      <td>4.000000</td>\n",
       "    </tr>\n",
       "    <tr>\n",
       "      <th>75%</th>\n",
       "      <td>4.000000</td>\n",
       "      <td>4.000000</td>\n",
       "      <td>5.000000</td>\n",
       "      <td>5.000000</td>\n",
       "      <td>4.000000</td>\n",
       "    </tr>\n",
       "    <tr>\n",
       "      <th>max</th>\n",
       "      <td>5.000000</td>\n",
       "      <td>5.000000</td>\n",
       "      <td>5.000000</td>\n",
       "      <td>5.000000</td>\n",
       "      <td>5.000000</td>\n",
       "    </tr>\n",
       "    <tr>\n",
       "      <th rowspan=\"8\" valign=\"top\">Time_Spent_Minutes</th>\n",
       "      <th>count</th>\n",
       "      <td>46.000000</td>\n",
       "      <td>56.000000</td>\n",
       "      <td>47.000000</td>\n",
       "      <td>32.000000</td>\n",
       "      <td>19.000000</td>\n",
       "    </tr>\n",
       "    <tr>\n",
       "      <th>mean</th>\n",
       "      <td>3.936957</td>\n",
       "      <td>4.042857</td>\n",
       "      <td>4.146809</td>\n",
       "      <td>4.006250</td>\n",
       "      <td>3.594737</td>\n",
       "    </tr>\n",
       "    <tr>\n",
       "      <th>std</th>\n",
       "      <td>1.346495</td>\n",
       "      <td>1.230795</td>\n",
       "      <td>1.096804</td>\n",
       "      <td>1.180469</td>\n",
       "      <td>0.803101</td>\n",
       "    </tr>\n",
       "    <tr>\n",
       "      <th>min</th>\n",
       "      <td>1.500000</td>\n",
       "      <td>1.900000</td>\n",
       "      <td>2.100000</td>\n",
       "      <td>1.200000</td>\n",
       "      <td>2.300000</td>\n",
       "    </tr>\n",
       "    <tr>\n",
       "      <th>25%</th>\n",
       "      <td>3.000000</td>\n",
       "      <td>3.000000</td>\n",
       "      <td>3.300000</td>\n",
       "      <td>3.300000</td>\n",
       "      <td>3.100000</td>\n",
       "    </tr>\n",
       "    <tr>\n",
       "      <th>50%</th>\n",
       "      <td>4.050000</td>\n",
       "      <td>3.950000</td>\n",
       "      <td>4.000000</td>\n",
       "      <td>3.950000</td>\n",
       "      <td>3.400000</td>\n",
       "    </tr>\n",
       "    <tr>\n",
       "      <th>75%</th>\n",
       "      <td>4.675000</td>\n",
       "      <td>4.800000</td>\n",
       "      <td>4.900000</td>\n",
       "      <td>4.850000</td>\n",
       "      <td>4.050000</td>\n",
       "    </tr>\n",
       "    <tr>\n",
       "      <th>max</th>\n",
       "      <td>7.700000</td>\n",
       "      <td>6.600000</td>\n",
       "      <td>6.500000</td>\n",
       "      <td>6.300000</td>\n",
       "      <td>5.400000</td>\n",
       "    </tr>\n",
       "  </tbody>\n",
       "</table>\n",
       "</div>"
      ],
      "text/plain": [
       "Age_Group                     18-24      25-34      35-44      45-54  \\\n",
       "Ease_of_Checkout   count  46.000000  56.000000  47.000000  32.000000   \n",
       "                   mean    3.543478   3.714286   3.723404   3.968750   \n",
       "                   std     1.277263   1.123538   1.228327   0.860771   \n",
       "                   min     1.000000   1.000000   1.000000   2.000000   \n",
       "                   25%     3.000000   3.000000   3.000000   3.750000   \n",
       "                   50%     4.000000   4.000000   4.000000   4.000000   \n",
       "                   75%     4.000000   4.000000   5.000000   5.000000   \n",
       "                   max     5.000000   5.000000   5.000000   5.000000   \n",
       "Time_Spent_Minutes count  46.000000  56.000000  47.000000  32.000000   \n",
       "                   mean    3.936957   4.042857   4.146809   4.006250   \n",
       "                   std     1.346495   1.230795   1.096804   1.180469   \n",
       "                   min     1.500000   1.900000   2.100000   1.200000   \n",
       "                   25%     3.000000   3.000000   3.300000   3.300000   \n",
       "                   50%     4.050000   3.950000   4.000000   3.950000   \n",
       "                   75%     4.675000   4.800000   4.900000   4.850000   \n",
       "                   max     7.700000   6.600000   6.500000   6.300000   \n",
       "\n",
       "Age_Group                     55-64  \n",
       "Ease_of_Checkout   count  19.000000  \n",
       "                   mean    3.315789  \n",
       "                   std     1.204281  \n",
       "                   min     1.000000  \n",
       "                   25%     2.500000  \n",
       "                   50%     4.000000  \n",
       "                   75%     4.000000  \n",
       "                   max     5.000000  \n",
       "Time_Spent_Minutes count  19.000000  \n",
       "                   mean    3.594737  \n",
       "                   std     0.803101  \n",
       "                   min     2.300000  \n",
       "                   25%     3.100000  \n",
       "                   50%     3.400000  \n",
       "                   75%     4.050000  \n",
       "                   max     5.400000  "
      ]
     },
     "execution_count": 41,
     "metadata": {},
     "output_type": "execute_result"
    }
   ],
   "source": [
    "# Group the dataframe by Age_Group\n",
    "df.groupby('Age_Group')[df.select_dtypes(include='number').columns].describe().T"
   ]
  },
  {
   "cell_type": "markdown",
   "id": "1f8ce3dc",
   "metadata": {},
   "source": [
    "### Z-Score across the whole dataset"
   ]
  },
  {
   "cell_type": "code",
   "execution_count": 50,
   "id": "a651bfb4",
   "metadata": {},
   "outputs": [
    {
     "name": "stdout",
     "output_type": "stream",
     "text": [
      "    Age_Group  Ease_of_Checkout  Time_Spent_Minutes Payment_Method  \\\n",
      "0       25-34                 4                 5.6           BNPL   \n",
      "1       55-64                 2                 4.0           BNPL   \n",
      "2       35-44                 3                 4.8           BNPL   \n",
      "3       35-44                 5                 3.6           Card   \n",
      "4       18-24                 4                 4.4           Card   \n",
      "..        ...               ...                 ...            ...   \n",
      "195     25-34                 5                 3.0           Card   \n",
      "196     35-44                 5                 4.3           Card   \n",
      "197     45-54                 4                 3.9           Card   \n",
      "198     45-54                 5                 3.7         PayPal   \n",
      "199     45-54                 5                 2.9         PayPal   \n",
      "\n",
      "     Ease_of_Checkout_z  Time_Spent_Minutes_z  \n",
      "0              0.275993              1.354796  \n",
      "1             -1.448964              0.004641  \n",
      "2             -0.586486              0.679719  \n",
      "3              1.138472             -0.332898  \n",
      "4              0.275993              0.342180  \n",
      "..                  ...                   ...  \n",
      "195            1.138472             -0.839206  \n",
      "196            1.138472              0.257795  \n",
      "197            0.275993             -0.079744  \n",
      "198            1.138472             -0.248513  \n",
      "199            1.138472             -0.923590  \n",
      "\n",
      "[200 rows x 6 columns]\n"
     ]
    }
   ],
   "source": [
    "# Select numeric columns\n",
    "num_cols = df.select_dtypes(include='number').columns\n",
    "\n",
    "# Compute z-scores for each numeric column\n",
    "z_scores = (df[num_cols] - df[num_cols].mean()) / df[num_cols].std()\n",
    "\n",
    "# Add back to dataframe with suffix\n",
    "df_z = df.copy()\n",
    "df_z[[col + '_z' for col in num_cols]] = z_scores\n",
    "\n",
    "print(df_z)\n"
   ]
  },
  {
   "cell_type": "markdown",
   "id": "7089a293",
   "metadata": {},
   "source": [
    "##Z-score across age group"
   ]
  },
  {
   "cell_type": "code",
   "execution_count": 60,
   "id": "9b3a943f",
   "metadata": {},
   "outputs": [
    {
     "name": "stdout",
     "output_type": "stream",
     "text": [
      "    Age_Group  Ease_of_Checkout  Time_Spent_Minutes Payment_Method  \\\n",
      "0       25-34                 4                 5.6           BNPL   \n",
      "1       55-64                 2                 4.0           BNPL   \n",
      "2       35-44                 3                 4.8           BNPL   \n",
      "3       35-44                 5                 3.6           Card   \n",
      "4       18-24                 4                 4.4           Card   \n",
      "..        ...               ...                 ...            ...   \n",
      "195     25-34                 5                 3.0           Card   \n",
      "196     35-44                 5                 4.3           Card   \n",
      "197     45-54                 4                 3.9           Card   \n",
      "198     45-54                 5                 3.7         PayPal   \n",
      "199     45-54                 5                 2.9         PayPal   \n",
      "\n",
      "     Ease_of_Checkout_z  Time_Spent_Minutes_z  \n",
      "0              0.254299              1.265152  \n",
      "1             -1.092594              0.504623  \n",
      "2             -0.588934              0.595541  \n",
      "3              1.039296             -0.498547  \n",
      "4              0.357422              0.343888  \n",
      "..                  ...                   ...  \n",
      "195            1.144344             -0.847303  \n",
      "196            1.039296              0.139671  \n",
      "197            0.036305             -0.090007  \n",
      "198            1.198053             -0.259431  \n",
      "199            1.198053             -0.937127  \n",
      "\n",
      "[200 rows x 6 columns]\n"
     ]
    }
   ],
   "source": [
    "# Select numeric columns\n",
    "num_cols = ['Ease_of_Checkout', 'Time_Spent_Minutes']\n",
    "\n",
    "# Group by Age_Group and calculate z-scores\n",
    "df_z = df.copy()\n",
    "df_z[[col + '_z' for col in num_cols]] = df.groupby('Age_Group')[num_cols].transform(\n",
    "    lambda x: (x - x.mean()) / x.std()\n",
    ")\n",
    "print(df_z)"
   ]
  },
  {
   "cell_type": "code",
   "execution_count": 58,
   "id": "071c69e6",
   "metadata": {},
   "outputs": [
    {
     "name": "stdout",
     "output_type": "stream",
     "text": [
      "\n",
      "Descriptive Statistics by Age Group:\n",
      "          Variable Age_Group  N  Missing     Mean  Median       SD\n",
      "  Ease_of_Checkout     18-24 46        0 3.543478    4.00 1.277263\n",
      "  Ease_of_Checkout     25-34 56        0 3.714286    4.00 1.123538\n",
      "  Ease_of_Checkout     35-44 47        0 3.723404    4.00 1.228327\n",
      "  Ease_of_Checkout     45-54 32        0 3.968750    4.00 0.860771\n",
      "  Ease_of_Checkout     55-64 19        0 3.315789    4.00 1.204281\n",
      "    Payment_Method     18-24 46        0      NaN     NaN      NaN\n",
      "    Payment_Method     25-34 56        0      NaN     NaN      NaN\n",
      "    Payment_Method     35-44 47        0      NaN     NaN      NaN\n",
      "    Payment_Method     45-54 32        0      NaN     NaN      NaN\n",
      "    Payment_Method     55-64 19        0      NaN     NaN      NaN\n",
      "Time_Spent_Minutes     18-24 46        0 3.936957    4.05 1.346495\n",
      "Time_Spent_Minutes     25-34 56        0 4.042857    3.95 1.230795\n",
      "Time_Spent_Minutes     35-44 47        0 4.146809    4.00 1.096804\n",
      "Time_Spent_Minutes     45-54 32        0 4.006250    3.95 1.180469\n",
      "Time_Spent_Minutes     55-64 19        0 3.594737    3.40 0.803101\n"
     ]
    },
    {
     "name": "stderr",
     "output_type": "stream",
     "text": [
      "C:\\Users\\Roo\\AppData\\Local\\Temp\\ipykernel_17800\\2159423997.py:40: FutureWarning: The behavior of DataFrame concatenation with empty or all-NA entries is deprecated. In a future version, this will no longer exclude empty or all-NA columns when determining the result dtypes. To retain the old behavior, exclude the relevant entries before the concat operation.\n",
      "  final_stats = pd.concat([ease_stats, time_stats, payment_stats], ignore_index=True)\n"
     ]
    }
   ],
   "source": [
    "# Create function to build descriptive statistics block\n",
    "def create_descriptive_stats(df, var, group_var='Age_Group'):\n",
    "    if var in ['Ease_of_Checkout', 'Time_Spent_Minutes']:\n",
    "        # For numeric variables\n",
    "        g = df.groupby(group_var)[var]\n",
    "        stats = pd.DataFrame({\n",
    "            'Variable': var,\n",
    "            'Age_Group': g.groups.keys(),\n",
    "            'N': g.count(),\n",
    "            'Missing': g.apply(lambda x: x.isna().sum()),\n",
    "            'Mean': g.mean(),\n",
    "            'Median': g.median(),\n",
    "            'SD': g.std()\n",
    "        })\n",
    "    else:\n",
    "        # For Payment_Method (categorical)\n",
    "        crosstab = pd.crosstab(df[group_var], df[var], margins=False)\n",
    "        stats_list = []\n",
    "        for age_group in crosstab.index:\n",
    "            row_data = {\n",
    "                'Variable': 'Payment_Method',\n",
    "                'Age_Group': age_group,\n",
    "                'N': crosstab.loc[age_group].sum(),\n",
    "                'Missing': df[df[group_var] == age_group][var].isna().sum(),\n",
    "                'Mean': None,\n",
    "                'Median': None,\n",
    "                'SD': None\n",
    "            }\n",
    "            stats_list.append(row_data)\n",
    "        stats = pd.DataFrame(stats_list)\n",
    "    \n",
    "    return stats\n",
    "\n",
    "# Create individual blocks\n",
    "ease_stats = create_descriptive_stats(df, 'Ease_of_Checkout')\n",
    "time_stats = create_descriptive_stats(df, 'Time_Spent_Minutes')\n",
    "payment_stats = create_descriptive_stats(df, 'Payment_Method')\n",
    "\n",
    "# Combine all statistics\n",
    "final_stats = pd.concat([ease_stats, time_stats, payment_stats], ignore_index=True)\n",
    "\n",
    "# Sort by Variable (to maintain specific order) and Age_Group\n",
    "final_stats = final_stats.sort_values(['Variable', 'Age_Group'])\n",
    "\n",
    "# Display the results\n",
    "print(\"\\nDescriptive Statistics by Age Group:\")\n",
    "print(final_stats.to_string(index=False))\n",
    "\n",
    "# If you want to save to CSV\n",
    "# final_stats.to_csv('descriptive_statistics.csv', index=False)"
   ]
  },
  {
   "cell_type": "code",
   "execution_count": 62,
   "id": "ff8c23d7",
   "metadata": {},
   "outputs": [
    {
     "data": {
      "image/png": "[encoded data removed]",
      "text/plain": [
       "<Figure size 1500x600 with 2 Axes>"
      ]
     },
     "metadata": {},
     "output_type": "display_data"
    }
   ],
   "source": [
    "import matplotlib.pyplot as plt\n",
    "import seaborn as sns\n",
    "\n",
    "# Set up the style (using a built-in matplotlib style)\n",
    "plt.style.use('default')  # or try 'ggplot', 'fivethirtyeight', etc.\n",
    "sns.set_theme()  # Apply seaborn's default theme\n",
    "\n",
    "# Create a figure with two subplots side by side\n",
    "fig, (ax1, ax2) = plt.subplots(1, 2, figsize=(15, 6))\n",
    "\n",
    "# Histogram for Ease of Checkout\n",
    "sns.histplot(data=df, x='Ease_of_Checkout', bins=5, ax=ax1, color='skyblue')\n",
    "ax1.set_title('Distribution of Ease of Checkout Ratings', pad=15)\n",
    "ax1.set_xlabel('Ease of Checkout (1-5 scale)')\n",
    "ax1.set_ylabel('Count')\n",
    "ax1.grid(True, alpha=0.3)\n",
    "\n",
    "# Boxplot for Time Spent\n",
    "sns.boxplot(y=df['Time_Spent_Minutes'], ax=ax2, color='lightgreen')\n",
    "ax2.set_title('Distribution of Time Spent at Checkout', pad=15)\n",
    "ax2.set_ylabel('Time (minutes)')\n",
    "ax2.grid(True, alpha=0.3)\n",
    "\n",
    "# Adjust layout to prevent overlap\n",
    "plt.tight_layout()\n",
    "\n",
    "# Show the plots\n",
    "plt.show()\n",
    "\n",
    "# Optional: Save the figure\n",
    "# plt.savefig('checkout_distributions.png', dpi=300, bbox_inches='tight')"
   ]
  },
  {
   "cell_type": "code",
   "execution_count": 65,
   "id": "5dfbae4a",
   "metadata": {},
   "outputs": [
    {
     "data": {
      "image/png": "[encoded data removed]",
      "text/plain": [
       "<Figure size 1000x600 with 1 Axes>"
      ]
     },
     "metadata": {},
     "output_type": "display_data"
    }
   ],
   "source": [
    "import matplotlib.pyplot as plt\n",
    "import seaborn as sns\n",
    "\n",
    "# Calculate age group counts\n",
    "age_counts = df['Age_Group'].value_counts().sort_index(ascending=False)\n",
    "\n",
    "# Create figure and axis\n",
    "plt.figure(figsize=(10, 6))\n",
    "\n",
    "# Create horizontal bar chart\n",
    "bars = plt.barh(y=age_counts.index, width=age_counts.values, color='cornflowerblue')\n",
    "\n",
    "# Customize the plot\n",
    "plt.title('Distribution of Respondents by Age Group', pad=15)\n",
    "plt.xlabel('Number of Respondents')\n",
    "plt.ylabel('Age Group')\n",
    "\n",
    "# Add value labels on the bars\n",
    "for bar in bars:\n",
    "    width = bar.get_width()\n",
    "    plt.text(width, bar.get_y() + bar.get_height()/2,\n",
    "            f'{int(width)}',\n",
    "            ha='left', va='center', fontweight='bold')\n",
    "    \n",
    "# Add grid for better readability\n",
    "plt.grid(True, axis='x', alpha=0.3)\n",
    "\n",
    "# Adjust layout\n",
    "plt.tight_layout()\n",
    "\n",
    "# Show the plot\n",
    "plt.show()"
   ]
  }
 ],
 "metadata": {
  "kernelspec": {
   "display_name": ".venv",
   "language": "python",
   "name": "python3"
  },
  "language_info": {
   "codemirror_mode": {
    "name": "ipython",
    "version": 3
   },
   "file_extension": ".py",
   "mimetype": "text/x-python",
   "name": "python",
   "nbconvert_exporter": "python",
   "pygments_lexer": "ipython3",
   "version": "3.13.2"
  }
 },
 "nbformat": 4,
 "nbformat_minor": 5
}
