{
 "cells": [
  {
   "cell_type": "markdown",
   "id": "8db26780",
   "metadata": {},
   "source": [
    "Step 1 | Setup and Initialization"
   ]
  },
  {
   "cell_type": "markdown",
   "id": "f2721ea3",
   "metadata": {},
   "source": [
    "I'll initialize the libraries that will be utilized throughout the project. This generally includes libraries for data manipulation, data visualization, and others based on the specific needs of the project."
   ]
  },
  {
   "cell_type": "code",
   "execution_count": 5,
   "id": "5ba78692",
   "metadata": {},
   "outputs": [
    {
     "name": "stdout",
     "output_type": "stream",
     "text": [
      "Requirement already satisfied: pandas in d:\\documents\\projects\\surveyanalysis\\checkout\\.venv\\lib\\site-packages (from -r requirements.txt (line 1)) (2.3.2)\n",
      "Requirement already satisfied: numpy in d:\\documents\\projects\\surveyanalysis\\checkout\\.venv\\lib\\site-packages (from -r requirements.txt (line 2)) (2.3.3)\n",
      "Requirement already satisfied: scipy in d:\\documents\\projects\\surveyanalysis\\checkout\\.venv\\lib\\site-packages (from -r requirements.txt (line 3)) (1.16.2)\n",
      "Requirement already satisfied: matplotlib in d:\\documents\\projects\\surveyanalysis\\checkout\\.venv\\lib\\site-packages (from -r requirements.txt (line 4)) (3.10.6)\n",
      "Requirement already satisfied: seaborn in d:\\documents\\projects\\surveyanalysis\\checkout\\.venv\\lib\\site-packages (from -r requirements.txt (line 5)) (0.13.2)\n",
      "Requirement already satisfied: jupyter in d:\\documents\\projects\\surveyanalysis\\checkout\\.venv\\lib\\site-packages (from -r requirements.txt (line 6)) (1.1.1)\n",
      "Requirement already satisfied: scikit-learn in d:\\documents\\projects\\surveyanalysis\\checkout\\.venv\\lib\\site-packages (from -r requirements.txt (line 7)) (1.7.2)\n",
      "Requirement already satisfied: python-dateutil>=2.8.2 in d:\\documents\\projects\\surveyanalysis\\checkout\\.venv\\lib\\site-packages (from pandas->-r requirements.txt (line 1)) (2.9.0.post0)\n",
      "Requirement already satisfied: pytz>=2020.1 in d:\\documents\\projects\\surveyanalysis\\checkout\\.venv\\lib\\site-packages (from pandas->-r requirements.txt (line 1)) (2025.2)\n",
      "Requirement already satisfied: tzdata>=2022.7 in d:\\documents\\projects\\surveyanalysis\\checkout\\.venv\\lib\\site-packages (from pandas->-r requirements.txt (line 1)) (2025.2)\n",
      "Requirement already satisfied: contourpy>=1.0.1 in d:\\documents\\projects\\surveyanalysis\\checkout\\.venv\\lib\\site-packages (from matplotlib->-r requirements.txt (line 4)) (1.3.3)\n",
      "Requirement already satisfied: cycler>=0.10 in d:\\documents\\projects\\surveyanalysis\\checkout\\.venv\\lib\\site-packages (from matplotlib->-r requirements.txt (line 4)) (0.12.1)\n",
      "Requirement already satisfied: fonttools>=4.22.0 in d:\\documents\\projects\\surveyanalysis\\checkout\\.venv\\lib\\site-packages (from matplotlib->-r requirements.txt (line 4)) (4.60.0)\n",
      "Requirement already satisfied: kiwisolver>=1.3.1 in d:\\documents\\projects\\surveyanalysis\\checkout\\.venv\\lib\\site-packages (from matplotlib->-r requirements.txt (line 4)) (1.4.9)\n",
      "Requirement already satisfied: packaging>=20.0 in d:\\documents\\projects\\surveyanalysis\\checkout\\.venv\\lib\\site-packages (from matplotlib->-r requirements.txt (line 4)) (25.0)\n",
      "Requirement already satisfied: pillow>=8 in d:\\documents\\projects\\surveyanalysis\\checkout\\.venv\\lib\\site-packages (from matplotlib->-r requirements.txt (line 4)) (11.3.0)\n",
      "Requirement already satisfied: pyparsing>=2.3.1 in d:\\documents\\projects\\surveyanalysis\\checkout\\.venv\\lib\\site-packages (from matplotlib->-r requirements.txt (line 4)) (3.2.4)\n",
      "Requirement already satisfied: notebook in d:\\documents\\projects\\surveyanalysis\\checkout\\.venv\\lib\\site-packages (from jupyter->-r requirements.txt (line 6)) (7.4.5)\n",
      "Requirement already satisfied: jupyter-console in d:\\documents\\projects\\surveyanalysis\\checkout\\.venv\\lib\\site-packages (from jupyter->-r requirements.txt (line 6)) (6.6.3)\n",
      "Requirement already satisfied: nbconvert in d:\\documents\\projects\\surveyanalysis\\checkout\\.venv\\lib\\site-packages (from jupyter->-r requirements.txt (line 6)) (7.16.6)\n",
      "Requirement already satisfied: ipykernel in d:\\documents\\projects\\surveyanalysis\\checkout\\.venv\\lib\\site-packages (from jupyter->-r requirements.txt (line 6)) (6.30.1)\n",
      "Requirement already satisfied: ipywidgets in d:\\documents\\projects\\surveyanalysis\\checkout\\.venv\\lib\\site-packages (from jupyter->-r requirements.txt (line 6)) (8.1.7)\n",
      "Requirement already satisfied: jupyterlab in d:\\documents\\projects\\surveyanalysis\\checkout\\.venv\\lib\\site-packages (from jupyter->-r requirements.txt (line 6)) (4.4.7)\n",
      "Requirement already satisfied: joblib>=1.2.0 in d:\\documents\\projects\\surveyanalysis\\checkout\\.venv\\lib\\site-packages (from scikit-learn->-r requirements.txt (line 7)) (1.5.2)\n",
      "Requirement already satisfied: threadpoolctl>=3.1.0 in d:\\documents\\projects\\surveyanalysis\\checkout\\.venv\\lib\\site-packages (from scikit-learn->-r requirements.txt (line 7)) (3.6.0)\n",
      "Requirement already satisfied: six>=1.5 in d:\\documents\\projects\\surveyanalysis\\checkout\\.venv\\lib\\site-packages (from python-dateutil>=2.8.2->pandas->-r requirements.txt (line 1)) (1.17.0)\n",
      "Requirement already satisfied: comm>=0.1.1 in d:\\documents\\projects\\surveyanalysis\\checkout\\.venv\\lib\\site-packages (from ipykernel->jupyter->-r requirements.txt (line 6)) (0.2.3)\n",
      "Requirement already satisfied: debugpy>=1.6.5 in d:\\documents\\projects\\surveyanalysis\\checkout\\.venv\\lib\\site-packages (from ipykernel->jupyter->-r requirements.txt (line 6)) (1.8.17)\n",
      "Requirement already satisfied: ipython>=7.23.1 in d:\\documents\\projects\\surveyanalysis\\checkout\\.venv\\lib\\site-packages (from ipykernel->jupyter->-r requirements.txt (line 6)) (9.5.0)\n",
      "Requirement already satisfied: jupyter-client>=8.0.0 in d:\\documents\\projects\\surveyanalysis\\checkout\\.venv\\lib\\site-packages (from ipykernel->jupyter->-r requirements.txt (line 6)) (8.6.3)\n",
      "Requirement already satisfied: jupyter-core!=5.0.*,>=4.12 in d:\\documents\\projects\\surveyanalysis\\checkout\\.venv\\lib\\site-packages (from ipykernel->jupyter->-r requirements.txt (line 6)) (5.8.1)\n",
      "Requirement already satisfied: matplotlib-inline>=0.1 in d:\\documents\\projects\\surveyanalysis\\checkout\\.venv\\lib\\site-packages (from ipykernel->jupyter->-r requirements.txt (line 6)) (0.1.7)\n",
      "Requirement already satisfied: nest-asyncio>=1.4 in d:\\documents\\projects\\surveyanalysis\\checkout\\.venv\\lib\\site-packages (from ipykernel->jupyter->-r requirements.txt (line 6)) (1.6.0)\n",
      "Requirement already satisfied: psutil>=5.7 in d:\\documents\\projects\\surveyanalysis\\checkout\\.venv\\lib\\site-packages (from ipykernel->jupyter->-r requirements.txt (line 6)) (7.0.0)\n",
      "Requirement already satisfied: pyzmq>=25 in d:\\documents\\projects\\surveyanalysis\\checkout\\.venv\\lib\\site-packages (from ipykernel->jupyter->-r requirements.txt (line 6)) (27.1.0)\n",
      "Requirement already satisfied: tornado>=6.2 in d:\\documents\\projects\\surveyanalysis\\checkout\\.venv\\lib\\site-packages (from ipykernel->jupyter->-r requirements.txt (line 6)) (6.5.2)\n",
      "Requirement already satisfied: traitlets>=5.4.0 in d:\\documents\\projects\\surveyanalysis\\checkout\\.venv\\lib\\site-packages (from ipykernel->jupyter->-r requirements.txt (line 6)) (5.14.3)\n",
      "Requirement already satisfied: colorama in d:\\documents\\projects\\surveyanalysis\\checkout\\.venv\\lib\\site-packages (from ipython>=7.23.1->ipykernel->jupyter->-r requirements.txt (line 6)) (0.4.6)\n",
      "Requirement already satisfied: decorator in d:\\documents\\projects\\surveyanalysis\\checkout\\.venv\\lib\\site-packages (from ipython>=7.23.1->ipykernel->jupyter->-r requirements.txt (line 6)) (5.2.1)\n",
      "Requirement already satisfied: ipython-pygments-lexers in d:\\documents\\projects\\surveyanalysis\\checkout\\.venv\\lib\\site-packages (from ipython>=7.23.1->ipykernel->jupyter->-r requirements.txt (line 6)) (1.1.1)\n",
      "Requirement already satisfied: jedi>=0.16 in d:\\documents\\projects\\surveyanalysis\\checkout\\.venv\\lib\\site-packages (from ipython>=7.23.1->ipykernel->jupyter->-r requirements.txt (line 6)) (0.19.2)\n",
      "Requirement already satisfied: prompt_toolkit<3.1.0,>=3.0.41 in d:\\documents\\projects\\surveyanalysis\\checkout\\.venv\\lib\\site-packages (from ipython>=7.23.1->ipykernel->jupyter->-r requirements.txt (line 6)) (3.0.52)\n",
      "Requirement already satisfied: pygments>=2.4.0 in d:\\documents\\projects\\surveyanalysis\\checkout\\.venv\\lib\\site-packages (from ipython>=7.23.1->ipykernel->jupyter->-r requirements.txt (line 6)) (2.19.2)\n",
      "Requirement already satisfied: stack_data in d:\\documents\\projects\\surveyanalysis\\checkout\\.venv\\lib\\site-packages (from ipython>=7.23.1->ipykernel->jupyter->-r requirements.txt (line 6)) (0.6.3)\n",
      "Requirement already satisfied: wcwidth in d:\\documents\\projects\\surveyanalysis\\checkout\\.venv\\lib\\site-packages (from prompt_toolkit<3.1.0,>=3.0.41->ipython>=7.23.1->ipykernel->jupyter->-r requirements.txt (line 6)) (0.2.13)\n",
      "Requirement already satisfied: parso<0.9.0,>=0.8.4 in d:\\documents\\projects\\surveyanalysis\\checkout\\.venv\\lib\\site-packages (from jedi>=0.16->ipython>=7.23.1->ipykernel->jupyter->-r requirements.txt (line 6)) (0.8.5)\n",
      "Requirement already satisfied: platformdirs>=2.5 in d:\\documents\\projects\\surveyanalysis\\checkout\\.venv\\lib\\site-packages (from jupyter-core!=5.0.*,>=4.12->ipykernel->jupyter->-r requirements.txt (line 6)) (4.4.0)\n",
      "Requirement already satisfied: pywin32>=300 in d:\\documents\\projects\\surveyanalysis\\checkout\\.venv\\lib\\site-packages (from jupyter-core!=5.0.*,>=4.12->ipykernel->jupyter->-r requirements.txt (line 6)) (311)\n",
      "Requirement already satisfied: widgetsnbextension~=4.0.14 in d:\\documents\\projects\\surveyanalysis\\checkout\\.venv\\lib\\site-packages (from ipywidgets->jupyter->-r requirements.txt (line 6)) (4.0.14)\n",
      "Requirement already satisfied: jupyterlab_widgets~=3.0.15 in d:\\documents\\projects\\surveyanalysis\\checkout\\.venv\\lib\\site-packages (from ipywidgets->jupyter->-r requirements.txt (line 6)) (3.0.15)\n",
      "Requirement already satisfied: async-lru>=1.0.0 in d:\\documents\\projects\\surveyanalysis\\checkout\\.venv\\lib\\site-packages (from jupyterlab->jupyter->-r requirements.txt (line 6)) (2.0.5)\n",
      "Requirement already satisfied: httpx<1,>=0.25.0 in d:\\documents\\projects\\surveyanalysis\\checkout\\.venv\\lib\\site-packages (from jupyterlab->jupyter->-r requirements.txt (line 6)) (0.28.1)\n",
      "Requirement already satisfied: jinja2>=3.0.3 in d:\\documents\\projects\\surveyanalysis\\checkout\\.venv\\lib\\site-packages (from jupyterlab->jupyter->-r requirements.txt (line 6)) (3.1.6)\n",
      "Requirement already satisfied: jupyter-lsp>=2.0.0 in d:\\documents\\projects\\surveyanalysis\\checkout\\.venv\\lib\\site-packages (from jupyterlab->jupyter->-r requirements.txt (line 6)) (2.3.0)\n",
      "Requirement already satisfied: jupyter-server<3,>=2.4.0 in d:\\documents\\projects\\surveyanalysis\\checkout\\.venv\\lib\\site-packages (from jupyterlab->jupyter->-r requirements.txt (line 6)) (2.17.0)\n",
      "Requirement already satisfied: jupyterlab-server<3,>=2.27.1 in d:\\documents\\projects\\surveyanalysis\\checkout\\.venv\\lib\\site-packages (from jupyterlab->jupyter->-r requirements.txt (line 6)) (2.27.3)\n",
      "Requirement already satisfied: notebook-shim>=0.2 in d:\\documents\\projects\\surveyanalysis\\checkout\\.venv\\lib\\site-packages (from jupyterlab->jupyter->-r requirements.txt (line 6)) (0.2.4)\n",
      "Requirement already satisfied: setuptools>=41.1.0 in d:\\documents\\projects\\surveyanalysis\\checkout\\.venv\\lib\\site-packages (from jupyterlab->jupyter->-r requirements.txt (line 6)) (80.9.0)\n",
      "Requirement already satisfied: anyio in d:\\documents\\projects\\surveyanalysis\\checkout\\.venv\\lib\\site-packages (from httpx<1,>=0.25.0->jupyterlab->jupyter->-r requirements.txt (line 6)) (4.10.0)\n",
      "Requirement already satisfied: certifi in d:\\documents\\projects\\surveyanalysis\\checkout\\.venv\\lib\\site-packages (from httpx<1,>=0.25.0->jupyterlab->jupyter->-r requirements.txt (line 6)) (2025.8.3)\n",
      "Requirement already satisfied: httpcore==1.* in d:\\documents\\projects\\surveyanalysis\\checkout\\.venv\\lib\\site-packages (from httpx<1,>=0.25.0->jupyterlab->jupyter->-r requirements.txt (line 6)) (1.0.9)\n",
      "Requirement already satisfied: idna in d:\\documents\\projects\\surveyanalysis\\checkout\\.venv\\lib\\site-packages (from httpx<1,>=0.25.0->jupyterlab->jupyter->-r requirements.txt (line 6)) (3.10)\n",
      "Requirement already satisfied: h11>=0.16 in d:\\documents\\projects\\surveyanalysis\\checkout\\.venv\\lib\\site-packages (from httpcore==1.*->httpx<1,>=0.25.0->jupyterlab->jupyter->-r requirements.txt (line 6)) (0.16.0)\n",
      "Requirement already satisfied: argon2-cffi>=21.1 in d:\\documents\\projects\\surveyanalysis\\checkout\\.venv\\lib\\site-packages (from jupyter-server<3,>=2.4.0->jupyterlab->jupyter->-r requirements.txt (line 6)) (25.1.0)\n",
      "Requirement already satisfied: jupyter-events>=0.11.0 in d:\\documents\\projects\\surveyanalysis\\checkout\\.venv\\lib\\site-packages (from jupyter-server<3,>=2.4.0->jupyterlab->jupyter->-r requirements.txt (line 6)) (0.12.0)\n",
      "Requirement already satisfied: jupyter-server-terminals>=0.4.4 in d:\\documents\\projects\\surveyanalysis\\checkout\\.venv\\lib\\site-packages (from jupyter-server<3,>=2.4.0->jupyterlab->jupyter->-r requirements.txt (line 6)) (0.5.3)\n",
      "Requirement already satisfied: nbformat>=5.3.0 in d:\\documents\\projects\\surveyanalysis\\checkout\\.venv\\lib\\site-packages (from jupyter-server<3,>=2.4.0->jupyterlab->jupyter->-r requirements.txt (line 6)) (5.10.4)\n",
      "Requirement already satisfied: prometheus-client>=0.9 in d:\\documents\\projects\\surveyanalysis\\checkout\\.venv\\lib\\site-packages (from jupyter-server<3,>=2.4.0->jupyterlab->jupyter->-r requirements.txt (line 6)) (0.22.1)\n",
      "Requirement already satisfied: pywinpty>=2.0.1 in d:\\documents\\projects\\surveyanalysis\\checkout\\.venv\\lib\\site-packages (from jupyter-server<3,>=2.4.0->jupyterlab->jupyter->-r requirements.txt (line 6)) (3.0.0)\n",
      "Requirement already satisfied: send2trash>=1.8.2 in d:\\documents\\projects\\surveyanalysis\\checkout\\.venv\\lib\\site-packages (from jupyter-server<3,>=2.4.0->jupyterlab->jupyter->-r requirements.txt (line 6)) (1.8.3)\n",
      "Requirement already satisfied: terminado>=0.8.3 in d:\\documents\\projects\\surveyanalysis\\checkout\\.venv\\lib\\site-packages (from jupyter-server<3,>=2.4.0->jupyterlab->jupyter->-r requirements.txt (line 6)) (0.18.1)\n",
      "Requirement already satisfied: websocket-client>=1.7 in d:\\documents\\projects\\surveyanalysis\\checkout\\.venv\\lib\\site-packages (from jupyter-server<3,>=2.4.0->jupyterlab->jupyter->-r requirements.txt (line 6)) (1.8.0)\n",
      "Requirement already satisfied: babel>=2.10 in d:\\documents\\projects\\surveyanalysis\\checkout\\.venv\\lib\\site-packages (from jupyterlab-server<3,>=2.27.1->jupyterlab->jupyter->-r requirements.txt (line 6)) (2.17.0)\n",
      "Requirement already satisfied: json5>=0.9.0 in d:\\documents\\projects\\surveyanalysis\\checkout\\.venv\\lib\\site-packages (from jupyterlab-server<3,>=2.27.1->jupyterlab->jupyter->-r requirements.txt (line 6)) (0.12.1)\n",
      "Requirement already satisfied: jsonschema>=4.18.0 in d:\\documents\\projects\\surveyanalysis\\checkout\\.venv\\lib\\site-packages (from jupyterlab-server<3,>=2.27.1->jupyterlab->jupyter->-r requirements.txt (line 6)) (4.25.1)\n",
      "Requirement already satisfied: requests>=2.31 in d:\\documents\\projects\\surveyanalysis\\checkout\\.venv\\lib\\site-packages (from jupyterlab-server<3,>=2.27.1->jupyterlab->jupyter->-r requirements.txt (line 6)) (2.32.5)\n",
      "Requirement already satisfied: sniffio>=1.1 in d:\\documents\\projects\\surveyanalysis\\checkout\\.venv\\lib\\site-packages (from anyio->httpx<1,>=0.25.0->jupyterlab->jupyter->-r requirements.txt (line 6)) (1.3.1)\n",
      "Requirement already satisfied: argon2-cffi-bindings in d:\\documents\\projects\\surveyanalysis\\checkout\\.venv\\lib\\site-packages (from argon2-cffi>=21.1->jupyter-server<3,>=2.4.0->jupyterlab->jupyter->-r requirements.txt (line 6)) (25.1.0)\n",
      "Requirement already satisfied: MarkupSafe>=2.0 in d:\\documents\\projects\\surveyanalysis\\checkout\\.venv\\lib\\site-packages (from jinja2>=3.0.3->jupyterlab->jupyter->-r requirements.txt (line 6)) (3.0.2)\n",
      "Requirement already satisfied: attrs>=22.2.0 in d:\\documents\\projects\\surveyanalysis\\checkout\\.venv\\lib\\site-packages (from jsonschema>=4.18.0->jupyterlab-server<3,>=2.27.1->jupyterlab->jupyter->-r requirements.txt (line 6)) (25.3.0)\n",
      "Requirement already satisfied: jsonschema-specifications>=2023.03.6 in d:\\documents\\projects\\surveyanalysis\\checkout\\.venv\\lib\\site-packages (from jsonschema>=4.18.0->jupyterlab-server<3,>=2.27.1->jupyterlab->jupyter->-r requirements.txt (line 6)) (2025.9.1)\n",
      "Requirement already satisfied: referencing>=0.28.4 in d:\\documents\\projects\\surveyanalysis\\checkout\\.venv\\lib\\site-packages (from jsonschema>=4.18.0->jupyterlab-server<3,>=2.27.1->jupyterlab->jupyter->-r requirements.txt (line 6)) (0.36.2)\n",
      "Requirement already satisfied: rpds-py>=0.7.1 in d:\\documents\\projects\\surveyanalysis\\checkout\\.venv\\lib\\site-packages (from jsonschema>=4.18.0->jupyterlab-server<3,>=2.27.1->jupyterlab->jupyter->-r requirements.txt (line 6)) (0.27.1)\n",
      "Requirement already satisfied: python-json-logger>=2.0.4 in d:\\documents\\projects\\surveyanalysis\\checkout\\.venv\\lib\\site-packages (from jupyter-events>=0.11.0->jupyter-server<3,>=2.4.0->jupyterlab->jupyter->-r requirements.txt (line 6)) (3.3.0)\n",
      "Requirement already satisfied: pyyaml>=5.3 in d:\\documents\\projects\\surveyanalysis\\checkout\\.venv\\lib\\site-packages (from jupyter-events>=0.11.0->jupyter-server<3,>=2.4.0->jupyterlab->jupyter->-r requirements.txt (line 6)) (6.0.2)\n",
      "Requirement already satisfied: rfc3339-validator in d:\\documents\\projects\\surveyanalysis\\checkout\\.venv\\lib\\site-packages (from jupyter-events>=0.11.0->jupyter-server<3,>=2.4.0->jupyterlab->jupyter->-r requirements.txt (line 6)) (0.1.4)\n",
      "Requirement already satisfied: rfc3986-validator>=0.1.1 in d:\\documents\\projects\\surveyanalysis\\checkout\\.venv\\lib\\site-packages (from jupyter-events>=0.11.0->jupyter-server<3,>=2.4.0->jupyterlab->jupyter->-r requirements.txt (line 6)) (0.1.1)\n",
      "Requirement already satisfied: fqdn in d:\\documents\\projects\\surveyanalysis\\checkout\\.venv\\lib\\site-packages (from jsonschema[format-nongpl]>=4.18.0->jupyter-events>=0.11.0->jupyter-server<3,>=2.4.0->jupyterlab->jupyter->-r requirements.txt (line 6)) (1.5.1)\n",
      "Requirement already satisfied: isoduration in d:\\documents\\projects\\surveyanalysis\\checkout\\.venv\\lib\\site-packages (from jsonschema[format-nongpl]>=4.18.0->jupyter-events>=0.11.0->jupyter-server<3,>=2.4.0->jupyterlab->jupyter->-r requirements.txt (line 6)) (20.11.0)\n",
      "Requirement already satisfied: jsonpointer>1.13 in d:\\documents\\projects\\surveyanalysis\\checkout\\.venv\\lib\\site-packages (from jsonschema[format-nongpl]>=4.18.0->jupyter-events>=0.11.0->jupyter-server<3,>=2.4.0->jupyterlab->jupyter->-r requirements.txt (line 6)) (3.0.0)\n",
      "Requirement already satisfied: rfc3987-syntax>=1.1.0 in d:\\documents\\projects\\surveyanalysis\\checkout\\.venv\\lib\\site-packages (from jsonschema[format-nongpl]>=4.18.0->jupyter-events>=0.11.0->jupyter-server<3,>=2.4.0->jupyterlab->jupyter->-r requirements.txt (line 6)) (1.1.0)\n",
      "Requirement already satisfied: uri-template in d:\\documents\\projects\\surveyanalysis\\checkout\\.venv\\lib\\site-packages (from jsonschema[format-nongpl]>=4.18.0->jupyter-events>=0.11.0->jupyter-server<3,>=2.4.0->jupyterlab->jupyter->-r requirements.txt (line 6)) (1.3.0)\n",
      "Requirement already satisfied: webcolors>=24.6.0 in d:\\documents\\projects\\surveyanalysis\\checkout\\.venv\\lib\\site-packages (from jsonschema[format-nongpl]>=4.18.0->jupyter-events>=0.11.0->jupyter-server<3,>=2.4.0->jupyterlab->jupyter->-r requirements.txt (line 6)) (24.11.1)\n",
      "Requirement already satisfied: beautifulsoup4 in d:\\documents\\projects\\surveyanalysis\\checkout\\.venv\\lib\\site-packages (from nbconvert->jupyter->-r requirements.txt (line 6)) (4.13.5)\n",
      "Requirement already satisfied: bleach!=5.0.0 in d:\\documents\\projects\\surveyanalysis\\checkout\\.venv\\lib\\site-packages (from bleach[css]!=5.0.0->nbconvert->jupyter->-r requirements.txt (line 6)) (6.2.0)\n",
      "Requirement already satisfied: defusedxml in d:\\documents\\projects\\surveyanalysis\\checkout\\.venv\\lib\\site-packages (from nbconvert->jupyter->-r requirements.txt (line 6)) (0.7.1)\n",
      "Requirement already satisfied: jupyterlab-pygments in d:\\documents\\projects\\surveyanalysis\\checkout\\.venv\\lib\\site-packages (from nbconvert->jupyter->-r requirements.txt (line 6)) (0.3.0)\n",
      "Requirement already satisfied: mistune<4,>=2.0.3 in d:\\documents\\projects\\surveyanalysis\\checkout\\.venv\\lib\\site-packages (from nbconvert->jupyter->-r requirements.txt (line 6)) (3.1.4)\n",
      "Requirement already satisfied: nbclient>=0.5.0 in d:\\documents\\projects\\surveyanalysis\\checkout\\.venv\\lib\\site-packages (from nbconvert->jupyter->-r requirements.txt (line 6)) (0.10.2)\n",
      "Requirement already satisfied: pandocfilters>=1.4.1 in d:\\documents\\projects\\surveyanalysis\\checkout\\.venv\\lib\\site-packages (from nbconvert->jupyter->-r requirements.txt (line 6)) (1.5.1)\n",
      "Requirement already satisfied: webencodings in d:\\documents\\projects\\surveyanalysis\\checkout\\.venv\\lib\\site-packages (from bleach!=5.0.0->bleach[css]!=5.0.0->nbconvert->jupyter->-r requirements.txt (line 6)) (0.5.1)\n",
      "Requirement already satisfied: tinycss2<1.5,>=1.1.0 in d:\\documents\\projects\\surveyanalysis\\checkout\\.venv\\lib\\site-packages (from bleach[css]!=5.0.0->nbconvert->jupyter->-r requirements.txt (line 6)) (1.4.0)\n",
      "Requirement already satisfied: fastjsonschema>=2.15 in d:\\documents\\projects\\surveyanalysis\\checkout\\.venv\\lib\\site-packages (from nbformat>=5.3.0->jupyter-server<3,>=2.4.0->jupyterlab->jupyter->-r requirements.txt (line 6)) (2.21.2)\n",
      "Requirement already satisfied: charset_normalizer<4,>=2 in d:\\documents\\projects\\surveyanalysis\\checkout\\.venv\\lib\\site-packages (from requests>=2.31->jupyterlab-server<3,>=2.27.1->jupyterlab->jupyter->-r requirements.txt (line 6)) (3.4.3)\n",
      "Requirement already satisfied: urllib3<3,>=1.21.1 in d:\\documents\\projects\\surveyanalysis\\checkout\\.venv\\lib\\site-packages (from requests>=2.31->jupyterlab-server<3,>=2.27.1->jupyterlab->jupyter->-r requirements.txt (line 6)) (2.5.0)\n",
      "Requirement already satisfied: lark>=1.2.2 in d:\\documents\\projects\\surveyanalysis\\checkout\\.venv\\lib\\site-packages (from rfc3987-syntax>=1.1.0->jsonschema[format-nongpl]>=4.18.0->jupyter-events>=0.11.0->jupyter-server<3,>=2.4.0->jupyterlab->jupyter->-r requirements.txt (line 6)) (1.2.2)\n",
      "Requirement already satisfied: cffi>=1.0.1 in d:\\documents\\projects\\surveyanalysis\\checkout\\.venv\\lib\\site-packages (from argon2-cffi-bindings->argon2-cffi>=21.1->jupyter-server<3,>=2.4.0->jupyterlab->jupyter->-r requirements.txt (line 6)) (2.0.0)\n",
      "Requirement already satisfied: pycparser in d:\\documents\\projects\\surveyanalysis\\checkout\\.venv\\lib\\site-packages (from cffi>=1.0.1->argon2-cffi-bindings->argon2-cffi>=21.1->jupyter-server<3,>=2.4.0->jupyterlab->jupyter->-r requirements.txt (line 6)) (2.23)\n",
      "Requirement already satisfied: soupsieve>1.2 in d:\\documents\\projects\\surveyanalysis\\checkout\\.venv\\lib\\site-packages (from beautifulsoup4->nbconvert->jupyter->-r requirements.txt (line 6)) (2.8)\n",
      "Requirement already satisfied: typing-extensions>=4.0.0 in d:\\documents\\projects\\surveyanalysis\\checkout\\.venv\\lib\\site-packages (from beautifulsoup4->nbconvert->jupyter->-r requirements.txt (line 6)) (4.15.0)\n",
      "Requirement already satisfied: arrow>=0.15.0 in d:\\documents\\projects\\surveyanalysis\\checkout\\.venv\\lib\\site-packages (from isoduration->jsonschema[format-nongpl]>=4.18.0->jupyter-events>=0.11.0->jupyter-server<3,>=2.4.0->jupyterlab->jupyter->-r requirements.txt (line 6)) (1.3.0)\n",
      "Requirement already satisfied: types-python-dateutil>=2.8.10 in d:\\documents\\projects\\surveyanalysis\\checkout\\.venv\\lib\\site-packages (from arrow>=0.15.0->isoduration->jsonschema[format-nongpl]>=4.18.0->jupyter-events>=0.11.0->jupyter-server<3,>=2.4.0->jupyterlab->jupyter->-r requirements.txt (line 6)) (2.9.0.20250822)\n",
      "Requirement already satisfied: executing>=1.2.0 in d:\\documents\\projects\\surveyanalysis\\checkout\\.venv\\lib\\site-packages (from stack_data->ipython>=7.23.1->ipykernel->jupyter->-r requirements.txt (line 6)) (2.2.1)\n",
      "Requirement already satisfied: asttokens>=2.1.0 in d:\\documents\\projects\\surveyanalysis\\checkout\\.venv\\lib\\site-packages (from stack_data->ipython>=7.23.1->ipykernel->jupyter->-r requirements.txt (line 6)) (3.0.0)\n",
      "Requirement already satisfied: pure-eval in d:\\documents\\projects\\surveyanalysis\\checkout\\.venv\\lib\\site-packages (from stack_data->ipython>=7.23.1->ipykernel->jupyter->-r requirements.txt (line 6)) (0.2.3)\n",
      "Note: you may need to restart the kernel to use updated packages.\n"
     ]
    }
   ],
   "source": [
    "%pip install -r requirements.txt"
   ]
  },
  {
   "cell_type": "markdown",
   "id": "b236215a",
   "metadata": {},
   "source": [
    "Step 1.2 | Loading the Dataset"
   ]
  },
  {
   "cell_type": "markdown",
   "id": "553e7248",
   "metadata": {},
   "source": [
    "Load the survey responses into a pandas DataFrame which will facilitate easy manipulation and analysis:"
   ]
  },
  {
   "cell_type": "code",
   "execution_count": null,
   "id": "b608136b",
   "metadata": {},
   "outputs": [
    {
     "name": "stdout",
     "output_type": "stream",
     "text": [
      "Loaded data/processed/outputs/results/1-checkout_survey_responses.csv\n"
     ]
    }
   ],
   "source": [
    "import os\n",
    "\n",
    "# Change directory\n",
    "project_dir = r'D:\\Documents\\projects\\SurveyAnalysis\\Checkout'\n",
    "os.chdir(project_dir)\n",
    "\n",
    "# Check if files exist\n",
    "survey_file = 'data/processed/outputs/results/1-checkout_survey_responses.csv'\n",
    "\n",
    "if os.path.exists(survey_file):\n",
    "    df = pd.read_csv(survey_file)\n",
    "    print(f\"Loaded {survey_file}\")\n",
    "else:\n",
    "    print(f\"File not found: {survey_file}\")\n",
    "    print(\"Current directory contents:\")\n",
    "    print(os.listdir('.'))\n"
   ]
  },
  {
   "cell_type": "markdown",
   "id": "a2b7e238",
   "metadata": {},
   "source": [
    "Step 2 | Initial Data Analysis"
   ]
  },
  {
   "cell_type": "markdown",
   "id": "d8545a6d",
   "metadata": {},
   "source": [
    "Summarize the responses so that we can see what is typical, how much variation there is, and whether there are clear differences between groups."
   ]
  },
  {
   "cell_type": "code",
   "execution_count": null,
   "id": "fb5e55bc",
   "metadata": {},
   "outputs": [
    {
     "data": {
      "application/vnd.microsoft.datawrangler.viewer.v0+json": {
       "columns": [
        {
         "name": "index",
         "rawType": "int64",
         "type": "integer"
        },
        {
         "name": "Age_Group",
         "rawType": "object",
         "type": "string"
        },
        {
         "name": "Ease_of_Checkout",
         "rawType": "int64",
         "type": "integer"
        },
        {
         "name": "Time_Spent_Minutes",
         "rawType": "float64",
         "type": "float"
        },
        {
         "name": "Payment_Method",
         "rawType": "object",
         "type": "string"
        }
       ],
       "ref": "1b0d3c0b-6f56-4b43-9d5c-b6c7dd802795",
       "rows": [
        [
         "0",
         "25-34",
         "4",
         "5.6",
         "BNPL"
        ],
        [
         "1",
         "55-64",
         "2",
         "4.0",
         "BNPL"
        ],
        [
         "2",
         "35-44",
         "3",
         "4.8",
         "BNPL"
        ],
        [
         "3",
         "35-44",
         "5",
         "3.6",
         "Card"
        ],
        [
         "4",
         "18-24",
         "4",
         "4.4",
         "Card"
        ],
        [
         "5",
         "18-24",
         "1",
         "3.8",
         "PayPal"
        ],
        [
         "6",
         "18-24",
         "2",
         "4.1",
         "BNPL"
        ],
        [
         "7",
         "45-54",
         "4",
         "4.7",
         "PayPal"
        ],
        [
         "8",
         "35-44",
         "1",
         "3.0",
         "PayPal"
        ],
        [
         "9",
         "35-44",
         "3",
         "6.5",
         "Card"
        ]
       ],
       "shape": {
        "columns": 4,
        "rows": 10
       }
      },
      "text/html": [
       "<div>\n",
       "<style scoped>\n",
       "    .dataframe tbody tr th:only-of-type {\n",
       "        vertical-align: middle;\n",
       "    }\n",
       "\n",
       "    .dataframe tbody tr th {\n",
       "        vertical-align: top;\n",
       "    }\n",
       "\n",
       "    .dataframe thead th {\n",
       "        text-align: right;\n",
       "    }\n",
       "</style>\n",
       "<table border=\"1\" class=\"dataframe\">\n",
       "  <thead>\n",
       "    <tr style=\"text-align: right;\">\n",
       "      <th></th>\n",
       "      <th>Age_Group</th>\n",
       "      <th>Ease_of_Checkout</th>\n",
       "      <th>Time_Spent_Minutes</th>\n",
       "      <th>Payment_Method</th>\n",
       "    </tr>\n",
       "  </thead>\n",
       "  <tbody>\n",
       "    <tr>\n",
       "      <th>0</th>\n",
       "      <td>25-34</td>\n",
       "      <td>4</td>\n",
       "      <td>5.6</td>\n",
       "      <td>BNPL</td>\n",
       "    </tr>\n",
       "    <tr>\n",
       "      <th>1</th>\n",
       "      <td>55-64</td>\n",
       "      <td>2</td>\n",
       "      <td>4.0</td>\n",
       "      <td>BNPL</td>\n",
       "    </tr>\n",
       "    <tr>\n",
       "      <th>2</th>\n",
       "      <td>35-44</td>\n",
       "      <td>3</td>\n",
       "      <td>4.8</td>\n",
       "      <td>BNPL</td>\n",
       "    </tr>\n",
       "    <tr>\n",
       "      <th>3</th>\n",
       "      <td>35-44</td>\n",
       "      <td>5</td>\n",
       "      <td>3.6</td>\n",
       "      <td>Card</td>\n",
       "    </tr>\n",
       "    <tr>\n",
       "      <th>4</th>\n",
       "      <td>18-24</td>\n",
       "      <td>4</td>\n",
       "      <td>4.4</td>\n",
       "      <td>Card</td>\n",
       "    </tr>\n",
       "    <tr>\n",
       "      <th>5</th>\n",
       "      <td>18-24</td>\n",
       "      <td>1</td>\n",
       "      <td>3.8</td>\n",
       "      <td>PayPal</td>\n",
       "    </tr>\n",
       "    <tr>\n",
       "      <th>6</th>\n",
       "      <td>18-24</td>\n",
       "      <td>2</td>\n",
       "      <td>4.1</td>\n",
       "      <td>BNPL</td>\n",
       "    </tr>\n",
       "    <tr>\n",
       "      <th>7</th>\n",
       "      <td>45-54</td>\n",
       "      <td>4</td>\n",
       "      <td>4.7</td>\n",
       "      <td>PayPal</td>\n",
       "    </tr>\n",
       "    <tr>\n",
       "      <th>8</th>\n",
       "      <td>35-44</td>\n",
       "      <td>1</td>\n",
       "      <td>3.0</td>\n",
       "      <td>PayPal</td>\n",
       "    </tr>\n",
       "    <tr>\n",
       "      <th>9</th>\n",
       "      <td>35-44</td>\n",
       "      <td>3</td>\n",
       "      <td>6.5</td>\n",
       "      <td>Card</td>\n",
       "    </tr>\n",
       "  </tbody>\n",
       "</table>\n",
       "</div>"
      ],
      "text/plain": [
       "  Age_Group  Ease_of_Checkout  Time_Spent_Minutes Payment_Method\n",
       "0     25-34                 4                 5.6           BNPL\n",
       "1     55-64                 2                 4.0           BNPL\n",
       "2     35-44                 3                 4.8           BNPL\n",
       "3     35-44                 5                 3.6           Card\n",
       "4     18-24                 4                 4.4           Card\n",
       "5     18-24                 1                 3.8         PayPal\n",
       "6     18-24                 2                 4.1           BNPL\n",
       "7     45-54                 4                 4.7         PayPal\n",
       "8     35-44                 1                 3.0         PayPal\n",
       "9     35-44                 3                 6.5           Card"
      ]
     },
     "execution_count": 11,
     "metadata": {},
     "output_type": "execute_result"
    }
   ],
   "source": [
    "#Step 2.1 | Survey Response Overview\n",
    "## Preliminary analysis to understand the structure and content of the dataset\n",
    "df.head(10)"
   ]
  },
  {
   "cell_type": "code",
   "execution_count": 12,
   "id": "0863de66",
   "metadata": {},
   "outputs": [
    {
     "name": "stdout",
     "output_type": "stream",
     "text": [
      "<class 'pandas.core.frame.DataFrame'>\n",
      "RangeIndex: 200 entries, 0 to 199\n",
      "Data columns (total 4 columns):\n",
      " #   Column              Non-Null Count  Dtype  \n",
      "---  ------              --------------  -----  \n",
      " 0   Age_Group           200 non-null    object \n",
      " 1   Ease_of_Checkout    200 non-null    int64  \n",
      " 2   Time_Spent_Minutes  200 non-null    float64\n",
      " 3   Payment_Method      200 non-null    object \n",
      "dtypes: float64(1), int64(1), object(2)\n",
      "memory usage: 6.4+ KB\n"
     ]
    }
   ],
   "source": [
    "df.info()"
   ]
  },
  {
   "cell_type": "code",
   "execution_count": 13,
   "id": "a1a4ad7f",
   "metadata": {},
   "outputs": [
    {
     "name": "stdout",
     "output_type": "stream",
     "text": [
      "Shape of complete survey data :  (200, 4)\n"
     ]
    }
   ],
   "source": [
    "print(\"Shape of complete survey data : \", df.shape)"
   ]
  },
  {
   "cell_type": "markdown",
   "id": "83cfd543",
   "metadata": {},
   "source": [
    "Inferences:"
   ]
  },
  {
   "cell_type": "markdown",
   "id": "82847d16",
   "metadata": {},
   "source": [
    "The survey responses dataset consists of 200 entries and 4 columns. Here is a brief overview of each column:\n",
    "\n",
    "- Age_Group: This is an object data type column that contains the age range of each respondent. Each group represent common age ranges. \n",
    "\n",
    "- Ease_of_Checkout: \n",
    "\n",
    "- Time_Spent_Minutes: \n",
    "\n",
    "- Payment_Method:\n",
    "\n"
   ]
  },
  {
   "cell_type": "code",
   "execution_count": null,
   "id": "ced37c65",
   "metadata": {},
   "outputs": [
    {
     "data": {
      "application/vnd.microsoft.datawrangler.viewer.v0+json": {
       "columns": [
        {
         "name": "index",
         "rawType": "object",
         "type": "string"
        },
        {
         "name": "count",
         "rawType": "float64",
         "type": "float"
        },
        {
         "name": "mean",
         "rawType": "float64",
         "type": "float"
        },
        {
         "name": "std",
         "rawType": "float64",
         "type": "float"
        },
        {
         "name": "min",
         "rawType": "float64",
         "type": "float"
        },
        {
         "name": "25%",
         "rawType": "float64",
         "type": "float"
        },
        {
         "name": "50%",
         "rawType": "float64",
         "type": "float"
        },
        {
         "name": "75%",
         "rawType": "float64",
         "type": "float"
        },
        {
         "name": "max",
         "rawType": "float64",
         "type": "float"
        }
       ],
       "ref": "684c6f5b-fb58-4c1f-a1c1-dfa7137614ef",
       "rows": [
        [
         "Ease_of_Checkout",
         "200.0",
         "3.68",
         "1.1594488380434045",
         "1.0",
         "3.0",
         "4.0",
         "4.0",
         "5.0"
        ],
        [
         "Time_Spent_Minutes",
         "200.0",
         "3.9945",
         "1.1850491370767846",
         "1.2",
         "3.1",
         "4.0",
         "4.725",
         "7.7"
        ]
       ],
       "shape": {
        "columns": 8,
        "rows": 2
       }
      },
      "text/html": [
       "<div>\n",
       "<style scoped>\n",
       "    .dataframe tbody tr th:only-of-type {\n",
       "        vertical-align: middle;\n",
       "    }\n",
       "\n",
       "    .dataframe tbody tr th {\n",
       "        vertical-align: top;\n",
       "    }\n",
       "\n",
       "    .dataframe thead th {\n",
       "        text-align: right;\n",
       "    }\n",
       "</style>\n",
       "<table border=\"1\" class=\"dataframe\">\n",
       "  <thead>\n",
       "    <tr style=\"text-align: right;\">\n",
       "      <th></th>\n",
       "      <th>count</th>\n",
       "      <th>mean</th>\n",
       "      <th>std</th>\n",
       "      <th>min</th>\n",
       "      <th>25%</th>\n",
       "      <th>50%</th>\n",
       "      <th>75%</th>\n",
       "      <th>max</th>\n",
       "    </tr>\n",
       "  </thead>\n",
       "  <tbody>\n",
       "    <tr>\n",
       "      <th>Ease_of_Checkout</th>\n",
       "      <td>200.0</td>\n",
       "      <td>3.6800</td>\n",
       "      <td>1.159449</td>\n",
       "      <td>1.0</td>\n",
       "      <td>3.0</td>\n",
       "      <td>4.0</td>\n",
       "      <td>4.000</td>\n",
       "      <td>5.0</td>\n",
       "    </tr>\n",
       "    <tr>\n",
       "      <th>Time_Spent_Minutes</th>\n",
       "      <td>200.0</td>\n",
       "      <td>3.9945</td>\n",
       "      <td>1.185049</td>\n",
       "      <td>1.2</td>\n",
       "      <td>3.1</td>\n",
       "      <td>4.0</td>\n",
       "      <td>4.725</td>\n",
       "      <td>7.7</td>\n",
       "    </tr>\n",
       "  </tbody>\n",
       "</table>\n",
       "</div>"
      ],
      "text/plain": [
       "                    count    mean       std  min  25%  50%    75%  max\n",
       "Ease_of_Checkout    200.0  3.6800  1.159449  1.0  3.0  4.0  4.000  5.0\n",
       "Time_Spent_Minutes  200.0  3.9945  1.185049  1.2  3.1  4.0  4.725  7.7"
      ]
     },
     "execution_count": 14,
     "metadata": {},
     "output_type": "execute_result"
    }
   ],
   "source": [
    "#Step 2.2 | Summary Statistics\n",
    "#Generate summary statistics to gain initial insights into the data distribution.\n",
    "\n",
    "#Summary statistics for numerical variables\n",
    "df.describe().T"
   ]
  },
  {
   "cell_type": "code",
   "execution_count": null,
   "id": "af530e96",
   "metadata": {},
   "outputs": [
    {
     "name": "stdout",
     "output_type": "stream",
     "text": [
      "Data Range for Numerical Variables:\n",
      "                     min  max\n",
      "Ease_of_Checkout    1.0  5.0\n",
      "Time_Spent_Minutes  1.2  7.7\n",
      "Range for Ease of Checkout: 4\n",
      "Range for Time Spent (in minutes): 6.5\n"
     ]
    }
   ],
   "source": [
    "#Range for numerical variables\n",
    "data_range = df.describe().T[['min', 'max']]\n",
    "range_ease = df[\"Ease_of_Checkout\"].max() - df[\"Ease_of_Checkout\"].min()\n",
    "range_time = df[\"Time_Spent_Minutes\"].max() - df[\"Time_Spent_Minutes\"].min()\n",
    "print(\"Data Range for Numerical Variables:\\n\", data_range)\n",
    "print(\"Range for Ease of Checkout:\", range_ease)\n",
    "print(\"Range for Time Spent (in minutes):\", range_time)"
   ]
  },
  {
   "cell_type": "code",
   "execution_count": 24,
   "id": "fcd30273",
   "metadata": {},
   "outputs": [
    {
     "name": "stdout",
     "output_type": "stream",
     "text": [
      "Interquartile Range (IQR) for Ease of Checkout: 1.0\n",
      "Interquartile Range (IQR) for Time Spent (in minutes): 1.6249999999999996\n"
     ]
    }
   ],
   "source": [
    "# Interquartile Range (IQR) for numerical variables\n",
    "iqr_ease = df[\"Ease_of_Checkout\"].quantile(0.75) - df[\"Ease_of_Checkout\"].quantile(0.25)\n",
    "iqr_time = df[\"Time_Spent_Minutes\"].quantile(0.75) - df[\"Time_Spent_Minutes\"].quantile(0.25)\n",
    "print(\"Interquartile Range (IQR) for Ease of Checkout:\", iqr_ease)\n",
    "print(\"Interquartile Range (IQR) for Time Spent (in minutes):\", iqr_time)"
   ]
  },
  {
   "cell_type": "code",
   "execution_count": 26,
   "id": "4e4e00a2",
   "metadata": {},
   "outputs": [
    {
     "ename": "AttributeError",
     "evalue": "'Series' object has no attribute 'mad'",
     "output_type": "error",
     "traceback": [
      "\u001b[31m---------------------------------------------------------------------------\u001b[39m",
      "\u001b[31mAttributeError\u001b[39m                            Traceback (most recent call last)",
      "\u001b[32m~\\AppData\\Local\\Temp\\ipykernel_20304\\269701698.py\u001b[39m in \u001b[36m?\u001b[39m\u001b[34m()\u001b[39m\n\u001b[32m      1\u001b[39m \u001b[38;5;66;03m#Mean Absolute Deviation for numerical variables\u001b[39;00m\n\u001b[32m----> \u001b[39m\u001b[32m2\u001b[39m mad_ease = df[\u001b[33m\"Ease_of_Checkout\"\u001b[39m].mad()\n\u001b[32m      3\u001b[39m mad_time = df[\u001b[33m\"Time_Spent_Minutes\"\u001b[39m].mad()\n\u001b[32m      4\u001b[39m print(\u001b[33m\"Mean Absolute Deviation for Ease of Checkout:\"\u001b[39m, mad_ease)\n\u001b[32m      5\u001b[39m print(\u001b[33m\"Mean Absolute Deviation for Time Spent (in minutes):\"\u001b[39m, mad_time)\n",
      "\u001b[32md:\\Documents\\projects\\SurveyAnalysis\\Checkout\\.venv\\Lib\\site-packages\\pandas\\core\\generic.py\u001b[39m in \u001b[36m?\u001b[39m\u001b[34m(self, name)\u001b[39m\n\u001b[32m   6314\u001b[39m             \u001b[38;5;28;01mand\u001b[39;00m name \u001b[38;5;28;01mnot\u001b[39;00m \u001b[38;5;28;01min\u001b[39;00m self._accessors\n\u001b[32m   6315\u001b[39m             \u001b[38;5;28;01mand\u001b[39;00m self._info_axis._can_hold_identifiers_and_holds_name(name)\n\u001b[32m   6316\u001b[39m         ):\n\u001b[32m   6317\u001b[39m             \u001b[38;5;28;01mreturn\u001b[39;00m self[name]\n\u001b[32m-> \u001b[39m\u001b[32m6318\u001b[39m         \u001b[38;5;28;01mreturn\u001b[39;00m object.__getattribute__(self, name)\n",
      "\u001b[31mAttributeError\u001b[39m: 'Series' object has no attribute 'mad'"
     ]
    }
   ],
   "source": [
    "#Mean Absolute Deviation for numerical variables\n",
    "mad_ease = df[\"Ease_of_Checkout\"].mad()\n",
    "mad_time = df[\"Time_Spent_Minutes\"].mad()\n",
    "print(\"Mean Absolute Deviation for Ease of Checkout:\", mad_ease)\n",
    "print(\"Mean Absolute Deviation for Time Spent (in minutes):\", mad_time)"
   ]
  },
  {
   "cell_type": "code",
   "execution_count": 15,
   "id": "aa0c6312",
   "metadata": {},
   "outputs": [
    {
     "data": {
      "application/vnd.microsoft.datawrangler.viewer.v0+json": {
       "columns": [
        {
         "name": "index",
         "rawType": "object",
         "type": "string"
        },
        {
         "name": "count",
         "rawType": "object",
         "type": "unknown"
        },
        {
         "name": "unique",
         "rawType": "object",
         "type": "unknown"
        },
        {
         "name": "top",
         "rawType": "object",
         "type": "string"
        },
        {
         "name": "freq",
         "rawType": "object",
         "type": "unknown"
        }
       ],
       "ref": "d9e2f7d0-68fd-4bb7-8142-d419f7602081",
       "rows": [
        [
         "Age_Group",
         "200",
         "5",
         "25-34",
         "56"
        ],
        [
         "Payment_Method",
         "200",
         "3",
         "Card",
         "98"
        ]
       ],
       "shape": {
        "columns": 4,
        "rows": 2
       }
      },
      "text/html": [
       "<div>\n",
       "<style scoped>\n",
       "    .dataframe tbody tr th:only-of-type {\n",
       "        vertical-align: middle;\n",
       "    }\n",
       "\n",
       "    .dataframe tbody tr th {\n",
       "        vertical-align: top;\n",
       "    }\n",
       "\n",
       "    .dataframe thead th {\n",
       "        text-align: right;\n",
       "    }\n",
       "</style>\n",
       "<table border=\"1\" class=\"dataframe\">\n",
       "  <thead>\n",
       "    <tr style=\"text-align: right;\">\n",
       "      <th></th>\n",
       "      <th>count</th>\n",
       "      <th>unique</th>\n",
       "      <th>top</th>\n",
       "      <th>freq</th>\n",
       "    </tr>\n",
       "  </thead>\n",
       "  <tbody>\n",
       "    <tr>\n",
       "      <th>Age_Group</th>\n",
       "      <td>200</td>\n",
       "      <td>5</td>\n",
       "      <td>25-34</td>\n",
       "      <td>56</td>\n",
       "    </tr>\n",
       "    <tr>\n",
       "      <th>Payment_Method</th>\n",
       "      <td>200</td>\n",
       "      <td>3</td>\n",
       "      <td>Card</td>\n",
       "      <td>98</td>\n",
       "    </tr>\n",
       "  </tbody>\n",
       "</table>\n",
       "</div>"
      ],
      "text/plain": [
       "               count unique    top freq\n",
       "Age_Group        200      5  25-34   56\n",
       "Payment_Method   200      3   Card   98"
      ]
     },
     "execution_count": 15,
     "metadata": {},
     "output_type": "execute_result"
    }
   ],
   "source": [
    "# Summary statistics for categorical variables\n",
    "df.describe(include='object').T"
   ]
  },
  {
   "cell_type": "markdown",
   "id": "f69e9567",
   "metadata": {},
   "source": [
    "Inferences:\n",
    "\n",
    "- <b>Ease of Checkout</b>:\n",
    "    - the average ease of checkout score is a 3.68.\n",
    "    - The ease of checkout score is based on a 1 to 5 scale.\n",
    "    - the standard deviation is quite small, indicating a small spread in the data.\n",
    "\n",
    "- <b>Time Spent in Minutes</b>:\n",
    "    - the average time spent (in minutes) is approximately 3.99\n",
    "    - the average time spent show a small range of 6.5 minutes, from 1.2 minutes (72 seconds) to 7.7 minutes (462 seconds).\n",
    "    - Similar to the Ease_of_checkout column, the \n",
    "\n",
    "- <b>Age Group</b>:\n",
    "    - There are 5 unique age_groups, representing different audiences.\n",
    "    - The most frequent age group audience is 25-34, representing 28% of respondents.\n",
    "\n",
    "- <b>Payment_Method</b>:\n",
    "    - There are 3 unique payment methods: Buy Now Pay Later (BNPL), PayPal, and Card.\n",
    "    - THe most frequent payment method is credit card."
   ]
  }
 ],
 "metadata": {
  "kernelspec": {
   "display_name": ".venv",
   "language": "python",
   "name": "python3"
  },
  "language_info": {
   "codemirror_mode": {
    "name": "ipython",
    "version": 3
   },
   "file_extension": ".py",
   "mimetype": "text/x-python",
   "name": "python",
   "nbconvert_exporter": "python",
   "pygments_lexer": "ipython3",
   "version": "3.13.2"
  }
 },
 "nbformat": 4,
 "nbformat_minor": 5
}
